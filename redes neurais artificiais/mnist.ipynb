{
 "cells": [
  {
   "cell_type": "code",
   "execution_count": 96,
   "metadata": {},
   "outputs": [],
   "source": [
    "from tensorflow.examples.tutorials.mnist import input_data"
   ]
  },
  {
   "cell_type": "code",
   "execution_count": 97,
   "metadata": {},
   "outputs": [
    {
     "name": "stdout",
     "output_type": "stream",
     "text": [
      "Extracting mnist/train-images-idx3-ubyte.gz\n",
      "Extracting mnist/train-labels-idx1-ubyte.gz\n",
      "Extracting mnist/t10k-images-idx3-ubyte.gz\n",
      "Extracting mnist/t10k-labels-idx1-ubyte.gz\n"
     ]
    }
   ],
   "source": [
    "mnist = input_data.read_data_sets('mnist/', one_hot = True)"
   ]
  },
  {
   "cell_type": "code",
   "execution_count": 98,
   "metadata": {},
   "outputs": [
    {
     "data": {
      "text/plain": [
       "(55000, 784)"
      ]
     },
     "execution_count": 98,
     "metadata": {},
     "output_type": "execute_result"
    }
   ],
   "source": [
    "x_treinamento = mnist.train.images\n",
    "x_treinamento.shape ## 55k imagens no formato 28x28 (por isso 784)"
   ]
  },
  {
   "cell_type": "code",
   "execution_count": 99,
   "metadata": {},
   "outputs": [
    {
     "data": {
      "text/plain": [
       "(55000, 10)"
      ]
     },
     "execution_count": 99,
     "metadata": {},
     "output_type": "execute_result"
    }
   ],
   "source": [
    "y_treinamento = mnist.train.labels\n",
    "y_treinamento.shape ## 55k images saidas de 0 a 9"
   ]
  },
  {
   "cell_type": "code",
   "execution_count": 100,
   "metadata": {},
   "outputs": [],
   "source": [
    "x_teste = mnist.test.images\n",
    "y_teste = mnist.test.labels"
   ]
  },
  {
   "cell_type": "code",
   "execution_count": 101,
   "metadata": {},
   "outputs": [
    {
     "data": {
      "text/plain": [
       "Text(0.5, 1.0, 'Classe: 7')"
      ]
     },
     "execution_count": 101,
     "metadata": {},
     "output_type": "execute_result"
    },
    {
     "data": {
      "image/png": "[encoded data removed]",
      "text/plain": [
       "<Figure size 432x288 with 1 Axes>"
      ]
     },
     "metadata": {
      "needs_background": "light"
     },
     "output_type": "display_data"
    }
   ],
   "source": [
    "import matplotlib.pyplot as plt\n",
    "import numpy as np\n",
    "plt.imshow(x_treinamento[0].reshape(28,28), cmap = 'gray')\n",
    "plt.title('Classe: ' + str(np.argmax(y_treinamento[0])))"
   ]
  },
  {
   "cell_type": "code",
   "execution_count": 102,
   "metadata": {},
   "outputs": [
    {
     "data": {
      "text/plain": [
       "(64, 784)"
      ]
     },
     "execution_count": 102,
     "metadata": {},
     "output_type": "execute_result"
    }
   ],
   "source": [
    "x_batch, y_batch = mnist.train.next_batch(64)\n",
    "x_batch.shape"
   ]
  },
  {
   "cell_type": "code",
   "execution_count": 103,
   "metadata": {},
   "outputs": [],
   "source": [
    "###################### inicio da rede ############################"
   ]
  },
  {
   "cell_type": "code",
   "execution_count": 104,
   "metadata": {},
   "outputs": [
    {
     "data": {
      "text/plain": [
       "784"
      ]
     },
     "execution_count": 104,
     "metadata": {},
     "output_type": "execute_result"
    }
   ],
   "source": [
    "neuronios_entrada = x_treinamento.shape[1]\n",
    "neuronios_entrada"
   ]
  },
  {
   "cell_type": "code",
   "execution_count": 105,
   "metadata": {},
   "outputs": [
    {
     "data": {
      "text/plain": [
       "397"
      ]
     },
     "execution_count": 105,
     "metadata": {},
     "output_type": "execute_result"
    }
   ],
   "source": [
    "## Fórumula para definir numero de neuronios da camada ocula\n",
    "## = n de atributos somado com a qtd de classes e divide por 2\n",
    "\n",
    "neuronios_oculta1 = int((x_treinamento.shape[1] + y_treinamento.shape[1])/2)\n",
    "neuronios_oculta1"
   ]
  },
  {
   "cell_type": "code",
   "execution_count": 106,
   "metadata": {},
   "outputs": [
    {
     "data": {
      "text/plain": [
       "10"
      ]
     },
     "execution_count": 106,
     "metadata": {},
     "output_type": "execute_result"
    }
   ],
   "source": [
    "neuronios_oculta2 = neuronios_oculta1\n",
    "neuronios_oculta3 = neuronios_oculta1\n",
    "neuronios_saida = y_treinamento.shape[1]\n",
    "neuronios_saida"
   ]
  },
  {
   "cell_type": "code",
   "execution_count": 107,
   "metadata": {},
   "outputs": [],
   "source": [
    "## estrutura de neuronios\n",
    "\n",
    "## 784 -> 397 -> 397 -> 397 -> 10\n",
    "\n",
    "import tensorflow as tf"
   ]
  },
  {
   "cell_type": "code",
   "execution_count": 108,
   "metadata": {},
   "outputs": [],
   "source": [
    "w = {'oculta1': tf.Variable(tf.random_normal([neuronios_entrada, neuronios_oculta1])),\n",
    "     'oculta2': tf.Variable(tf.random_normal([neuronios_oculta1, neuronios_oculta2])),\n",
    "     'oculta3': tf.Variable(tf.random_normal([neuronios_oculta2, neuronios_oculta3])),\n",
    "     'saida': tf.Variable(tf.random_normal([neuronios_oculta3, neuronios_saida]))}"
   ]
  },
  {
   "cell_type": "code",
   "execution_count": 109,
   "metadata": {},
   "outputs": [],
   "source": [
    "b = {'oculta1': tf.Variable(tf.random_normal([neuronios_oculta1])),\n",
    "     'oculta2': tf.Variable(tf.random_normal([neuronios_oculta2])),\n",
    "     'oculta3': tf.Variable(tf.random_normal([neuronios_oculta3])),\n",
    "     'saida': tf.Variable(tf.random_normal([neuronios_saida]))}"
   ]
  },
  {
   "cell_type": "code",
   "execution_count": 110,
   "metadata": {},
   "outputs": [],
   "source": [
    "xph = tf.placeholder('float', [None, neuronios_entrada])\n",
    "yph = tf.placeholder('float', [None, neuronios_saida])"
   ]
  },
  {
   "cell_type": "code",
   "execution_count": 111,
   "metadata": {},
   "outputs": [],
   "source": [
    "def calcSomatorioAtivacao(x, w, bias):\n",
    "    camada_oculta1 = tf.nn.relu(tf.add(tf.matmul(x, w['oculta1']), b['oculta1']))\n",
    "    camada_oculta2 = tf.nn.relu(tf.add(tf.matmul(camada_oculta1, w['oculta2']), b['oculta2']))\n",
    "    camada_oculta3 = tf.nn.relu(tf.add(tf.matmul(camada_oculta2, w['oculta3']), b['oculta3']))\n",
    "    camada_saida = tf.add(tf.matmul(camada_oculta3, w['saida']), b['saida'])\n",
    "    return camada_saida"
   ]
  },
  {
   "cell_type": "code",
   "execution_count": 112,
   "metadata": {},
   "outputs": [],
   "source": [
    "modelo = calcSomatorioAtivacao(xph, w, b)\n",
    "erro = tf.reduce_mean(tf.nn.softmax_cross_entropy_with_logits_v2(logits = modelo, labels = yph))\n",
    "otimizador = tf.train.AdamOptimizer(learning_rate = 0.0001).minimize(erro)"
   ]
  },
  {
   "cell_type": "code",
   "execution_count": 116,
   "metadata": {},
   "outputs": [],
   "source": [
    "previsoes = tf.nn.softmax(modelo)\n",
    "previsoes_corretas = tf.equal(tf.argmax(previsoes, 1), tf.argmax(yph, 1))\n",
    "taxa_acerto = tf.reduce_mean(tf.cast(previsoes_corretas, tf.float32))"
   ]
  },
  {
   "cell_type": "code",
   "execution_count": 123,
   "metadata": {},
   "outputs": [
    {
     "name": "stdout",
     "output_type": "stream",
     "text": [
      "Época: 1 erro: 35812.785 taxa de acerto na epoca: [0.1328125]\n",
      "Época: 101 erro: 13969.506 taxa de acerto na epoca: [0.1796875]\n",
      "Época: 201 erro: 8653.807 taxa de acerto na epoca: [0.3515625]\n",
      "Época: 301 erro: 6531.0664 taxa de acerto na epoca: [0.4921875]\n",
      "Época: 401 erro: 5141.751 taxa de acerto na epoca: [0.546875]\n",
      "Época: 501 erro: 4925.0244 taxa de acerto na epoca: [0.5703125]\n",
      "Época: 601 erro: 3549.9705 taxa de acerto na epoca: [0.6171875]\n",
      "Época: 701 erro: 2714.1292 taxa de acerto na epoca: [0.6875]\n",
      "Época: 801 erro: 3186.5986 taxa de acerto na epoca: [0.6953125]\n",
      "Época: 901 erro: 2074.711 taxa de acerto na epoca: [0.75]\n",
      "Época: 1001 erro: 1970.9403 taxa de acerto na epoca: [0.7421875]\n",
      "Época: 1101 erro: 1637.7314 taxa de acerto na epoca: [0.7890625]\n",
      "Época: 1201 erro: 1740.8696 taxa de acerto na epoca: [0.7734375]\n",
      "Época: 1301 erro: 1805.0352 taxa de acerto na epoca: [0.8046875]\n",
      "Época: 1401 erro: 2001.8206 taxa de acerto na epoca: [0.78125]\n",
      "Época: 1501 erro: 1566.6575 taxa de acerto na epoca: [0.828125]\n",
      "Época: 1601 erro: 1656.8494 taxa de acerto na epoca: [0.7578125]\n",
      "Época: 1701 erro: 1079.3274 taxa de acerto na epoca: [0.8359375]\n",
      "Época: 1801 erro: 1118.5051 taxa de acerto na epoca: [0.8359375]\n",
      "Época: 1901 erro: 1359.4641 taxa de acerto na epoca: [0.8515625]\n",
      "Época: 2001 erro: 935.7143 taxa de acerto na epoca: [0.8671875]\n",
      "Época: 2101 erro: 1270.9521 taxa de acerto na epoca: [0.859375]\n",
      "Época: 2201 erro: 1326.8545 taxa de acerto na epoca: [0.84375]\n",
      "Época: 2301 erro: 1024.803 taxa de acerto na epoca: [0.8359375]\n",
      "Época: 2401 erro: 627.08264 taxa de acerto na epoca: [0.8984375]\n",
      "Época: 2501 erro: 773.03845 taxa de acerto na epoca: [0.875]\n",
      "Época: 2601 erro: 797.4083 taxa de acerto na epoca: [0.9140625]\n",
      "Época: 2701 erro: 876.6644 taxa de acerto na epoca: [0.8515625]\n",
      "Época: 2801 erro: 1228.821 taxa de acerto na epoca: [0.8203125]\n",
      "Época: 2901 erro: 569.4052 taxa de acerto na epoca: [0.8671875]\n",
      "Época: 3001 erro: 338.46426 taxa de acerto na epoca: [0.9296875]\n",
      "Época: 3101 erro: 1070.3972 taxa de acerto na epoca: [0.890625]\n",
      "Época: 3201 erro: 1006.0515 taxa de acerto na epoca: [0.8984375]\n",
      "Época: 3301 erro: 577.4918 taxa de acerto na epoca: [0.90625]\n",
      "Época: 3401 erro: 359.04086 taxa de acerto na epoca: [0.9375]\n",
      "Época: 3501 erro: 994.31757 taxa de acerto na epoca: [0.859375]\n",
      "Época: 3601 erro: 1077.1619 taxa de acerto na epoca: [0.8828125]\n",
      "Época: 3701 erro: 1081.8469 taxa de acerto na epoca: [0.8359375]\n",
      "Época: 3801 erro: 1117.2075 taxa de acerto na epoca: [0.84375]\n",
      "Época: 3901 erro: 525.1561 taxa de acerto na epoca: [0.90625]\n",
      "Época: 4001 erro: 617.166 taxa de acerto na epoca: [0.921875]\n",
      "Época: 4101 erro: 411.0135 taxa de acerto na epoca: [0.8671875]\n",
      "Época: 4201 erro: 199.50063 taxa de acerto na epoca: [0.9296875]\n",
      "Época: 4301 erro: 461.30905 taxa de acerto na epoca: [0.8828125]\n",
      "Época: 4401 erro: 494.60736 taxa de acerto na epoca: [0.9296875]\n",
      "Época: 4501 erro: 544.1841 taxa de acerto na epoca: [0.9296875]\n",
      "Época: 4601 erro: 582.9562 taxa de acerto na epoca: [0.8984375]\n",
      "Época: 4701 erro: 789.88837 taxa de acerto na epoca: [0.8671875]\n",
      "Época: 4801 erro: 593.45667 taxa de acerto na epoca: [0.8671875]\n",
      "Época: 4901 erro: 177.02362 taxa de acerto na epoca: [0.953125]\n",
      "Treinamento concluído\n",
      "[ True  True  True ...  True  True  True]\n",
      "Taxa de acerto: 0.8932\n"
     ]
    }
   ],
   "source": [
    "with tf.Session() as sess:\n",
    "    sess.run(tf.global_variables_initializer())\n",
    "    for epocas in range(5000):\n",
    "        x_batch, y_batch = mnist.train.next_batch(128)\n",
    "        _, custo = sess.run([otimizador, erro], feed_dict = {xph: x_batch, yph: y_batch})\n",
    "        if epocas % 100 == 0:\n",
    "            acc = sess.run([taxa_acerto], feed_dict = {xph: x_batch, yph: y_batch})\n",
    "            print('Época: ' + str(epocas + 1) + ' erro: ' + str(custo) + ' taxa de acerto na epoca: ' + str(acc))\n",
    "    print('Treinamento concluído')\n",
    "    print(sess.run(previsoes_corretas, feed_dict = {xph: x_teste, yph:y_teste}))\n",
    "    print('Taxa de acerto: ' + str(sess.run(taxa_acerto, feed_dict = {xph: x_teste, yph:y_teste})))"
   ]
  },
  {
   "cell_type": "code",
   "execution_count": null,
   "metadata": {},
   "outputs": [],
   "source": []
  }
 ],
 "metadata": {
  "kernelspec": {
   "display_name": "Python 3",
   "language": "python",
   "name": "python3"
  },
  "language_info": {
   "codemirror_mode": {
    "name": "ipython",
    "version": 3
   },
   "file_extension": ".py",
   "mimetype": "text/x-python",
   "name": "python",
   "nbconvert_exporter": "python",
   "pygments_lexer": "ipython3",
   "version": "3.7.6"
  }
 },
 "nbformat": 4,
 "nbformat_minor": 4
}
