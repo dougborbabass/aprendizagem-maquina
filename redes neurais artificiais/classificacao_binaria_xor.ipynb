{
 "cells": [
  {
   "cell_type": "code",
   "execution_count": 102,
   "metadata": {},
   "outputs": [],
   "source": [
    "import tensorflow as tf\n",
    "import numpy as np\n",
    "\n",
    "x = np.array([[0,0],[0,1],[1,0],[1,1]])\n"
   ]
  },
  {
   "cell_type": "code",
   "execution_count": 103,
   "metadata": {},
   "outputs": [
    {
     "data": {
      "text/plain": [
       "array([[0, 0],\n",
       "       [0, 1],\n",
       "       [1, 0],\n",
       "       [1, 1]])"
      ]
     },
     "execution_count": 103,
     "metadata": {},
     "output_type": "execute_result"
    }
   ],
   "source": [
    "x"
   ]
  },
  {
   "cell_type": "code",
   "execution_count": 104,
   "metadata": {},
   "outputs": [
    {
     "data": {
      "text/plain": [
       "array([[0],\n",
       "       [1],\n",
       "       [1],\n",
       "       [0]])"
      ]
     },
     "execution_count": 104,
     "metadata": {},
     "output_type": "execute_result"
    }
   ],
   "source": [
    "y = np.array([[0],[1],[1],[0]])\n",
    "y"
   ]
  },
  {
   "cell_type": "code",
   "execution_count": 105,
   "metadata": {},
   "outputs": [],
   "source": [
    "neuronios_entrada = 2\n",
    "neuronios_oculta = 3\n",
    "neuronios_saida = 1"
   ]
  },
  {
   "cell_type": "code",
   "execution_count": 106,
   "metadata": {},
   "outputs": [],
   "source": [
    "# varivael peso na forma de dicionario\n",
    "w = {'oculta': tf.Variable(tf.random_normal([neuronios_entrada,neuronios_oculta]), name = 'w_oculta'),\n",
    "    'saida': tf.Variable(tf.random_normal([neuronios_oculta,neuronios_saida]), name = 'w_saida')}"
   ]
  },
  {
   "cell_type": "code",
   "execution_count": 107,
   "metadata": {},
   "outputs": [
    {
     "data": {
      "text/plain": [
       "<tf.Variable 'w_oculta_6:0' shape=(2, 3) dtype=float32_ref>"
      ]
     },
     "execution_count": 107,
     "metadata": {},
     "output_type": "execute_result"
    }
   ],
   "source": [
    "w['oculta'] # matriz 2 linhas e 3 colunas"
   ]
  },
  {
   "cell_type": "code",
   "execution_count": 108,
   "metadata": {},
   "outputs": [
    {
     "data": {
      "text/plain": [
       "<tf.Variable 'w_saida_6:0' shape=(3, 1) dtype=float32_ref>"
      ]
     },
     "execution_count": 108,
     "metadata": {},
     "output_type": "execute_result"
    }
   ],
   "source": [
    "w['saida'] # matriz 1 linha"
   ]
  },
  {
   "cell_type": "code",
   "execution_count": 109,
   "metadata": {},
   "outputs": [],
   "source": [
    "b = {'oculta': tf.Variable(tf.random_normal([neuronios_oculta]), name = 'b_oculta'),\n",
    "    'saida': tf.Variable(tf.random_normal([neuronios_saida]), name = 'b_saida')}"
   ]
  },
  {
   "cell_type": "code",
   "execution_count": 110,
   "metadata": {},
   "outputs": [],
   "source": [
    "xph = tf.placeholder(tf.float32, [4,neuronios_entrada], name = 'xph') # construindo uma matriz 4x2\n",
    "yph = tf.placeholder(tf.float32, [4, neuronios_saida], name = 'yph') # construindo uma matriz 4 linhas e 1 coluna"
   ]
  },
  {
   "cell_type": "code",
   "execution_count": 111,
   "metadata": {},
   "outputs": [],
   "source": [
    "# sequencia do calculo de feedforward\n",
    "\n",
    "# função soma ->Somatório de xi * wi + bias\n",
    "\n",
    "camada_oculta = tf.add(tf.matmul(xph, w['oculta']), b['oculta'])"
   ]
  },
  {
   "cell_type": "code",
   "execution_count": 112,
   "metadata": {},
   "outputs": [],
   "source": [
    "# Após o somatório, calcula-se a função de ativação\n",
    "\n",
    "camada_oculta_ativacao = tf.sigmoid(camada_oculta)"
   ]
  },
  {
   "cell_type": "code",
   "execution_count": 113,
   "metadata": {},
   "outputs": [],
   "source": [
    "#somatório da camdada de saida\n",
    "\n",
    "camada_saida = tf.add(tf.matmul(camada_oculta_ativacao, w['saida']), b['saida'])"
   ]
  },
  {
   "cell_type": "code",
   "execution_count": 114,
   "metadata": {},
   "outputs": [],
   "source": [
    "#calculo da função de ativação na camada de saida\n",
    "\n",
    "camada_saida_ativacao = tf.sigmoid(camada_saida)"
   ]
  },
  {
   "cell_type": "code",
   "execution_count": 131,
   "metadata": {
    "scrolled": true
   },
   "outputs": [],
   "source": [
    "# calculo do erro com o esperado e o previsto\n",
    "\n",
    "erro = tf.losses.mean_squared_error(yph, camada_saida_ativacao)"
   ]
  },
  {
   "cell_type": "code",
   "execution_count": 132,
   "metadata": {},
   "outputs": [],
   "source": [
    "# calculo do gradiente para otimizador\n",
    "\n",
    "otimizador = tf.train.GradientDescentOptimizer(learning_rate = 0.3).minimize(erro)"
   ]
  },
  {
   "cell_type": "code",
   "execution_count": 115,
   "metadata": {},
   "outputs": [],
   "source": [
    "init = tf.global_variables_initializer()"
   ]
  },
  {
   "cell_type": "code",
   "execution_count": 135,
   "metadata": {},
   "outputs": [
    {
     "name": "stdout",
     "output_type": "stream",
     "text": [
      "0.07311782240867615\n",
      "0.06252825260162354\n",
      "0.062511146068573\n",
      "0.06250141561031342\n",
      "0.06249452382326126\n",
      "0.062487661838531494\n",
      "0.062478207051754\n",
      "0.062461789697408676\n",
      "0.06242800131440163\n",
      "0.06234602630138397\n",
      "0.06211334094405174\n",
      "0.06142248585820198\n",
      "0.059750691056251526\n",
      "0.05665087699890137\n",
      "0.05190347135066986\n",
      "0.046178173273801804\n",
      "0.03971278294920921\n",
      "0.03165864944458008\n",
      "0.022565683349967003\n",
      "0.01496255211532116\n",
      "0.010001881048083305\n",
      "0.007026735693216324\n",
      "0.005211017560213804\n",
      "0.004046289250254631\n",
      "0.0032590008340775967\n",
      "0.002701633144170046\n",
      "0.0022913897410035133\n",
      "0.001979504246264696\n",
      "0.0017359217163175344\n",
      "0.0015413369983434677\n",
      "0.0013828919036313891\n",
      "0.0012517432915046811\n",
      "0.0011416557244956493\n",
      "0.0010481025092303753\n",
      "0.0009677446214482188\n",
      "0.000898066908121109\n",
      "0.0008371376898139715\n",
      "0.0007834582356736064\n",
      "0.0007358449511229992\n",
      "0.00069335603620857\n",
      "0.000655229261610657\n",
      "0.0006208441336639225\n",
      "0.0005896909278817475\n",
      "0.0005613464745692909\n",
      "0.000535458792001009\n",
      "0.0005117279943078756\n",
      "0.0004899033810943365\n",
      "0.00046977007878012955\n",
      "0.00045114284148439765\n",
      "0.00043386363540776074\n"
     ]
    }
   ],
   "source": [
    "with tf.Session() as sess:\n",
    "    sess.run(init)\n",
    "#     print('Matriz de pesos entre entrada e camada oculta \\n')\n",
    "#     print(sess.run(w['oculta']))\n",
    "#     print('\\n')\n",
    "#     print('Matriz de pesos entre camada oculta e saida \\n')\n",
    "#     print(sess.run(w['saida']))\n",
    "#     print('\\n')\n",
    "#     print('Matriz de pesos bias oculta \\n')\n",
    "#     print(sess.run(b['oculta']))\n",
    "#     print('\\n')\n",
    "#     print('Matriz de pesos bias saida \\n')\n",
    "#     print(sess.run(b['saida']))\n",
    "#     print('Saida da função soma da entrada para camada oculta \\n')\n",
    "#     print(sess.run(camada_oculta, feed_dict = {xph: x}))\n",
    "#     print('\\nPara os somátorios os seguintes valores de ativação \\n')\n",
    "#     print(sess.run(camada_oculta_ativacao, feed_dict = {xph: x}))\n",
    "#     print('\\n')\n",
    "#     print('Saida da função soma da entrada para camada oculta \\n')\n",
    "#     print(sess.run(camada_saida, feed_dict = {xph: x}))\n",
    "#     print('\\nPara os somátorios de saida os seguintes valores de ativação \\n')\n",
    "#     print(sess.run(camada_saida_ativacao, feed_dict = {xph: x}))\n",
    "    for epocas in range (10000):\n",
    "        erro_medio = 0\n",
    "        _, custo = sess.run([otimizador, erro], feed_dict = {xph: x, yph: y})\n",
    "        if epocas % 200 == 0: ## somente para mostra os primeiros 200 registros no print\n",
    "            #print(custo)\n",
    "            erro_medio += custo/4\n",
    "            print(erro_medio) # conforme o treinamento avança o valor do erro diminui\n",
    "    w_final, b_final = sess.run([w, b])"
   ]
  },
  {
   "cell_type": "code",
   "execution_count": 136,
   "metadata": {},
   "outputs": [
    {
     "data": {
      "text/plain": [
       "{'oculta': array([[ 1.8438222, -5.8453608,  3.77902  ],\n",
       "        [ 1.8382725, -5.8427343,  3.7814682]], dtype=float32),\n",
       " 'saida': array([[-2.8190084],\n",
       "        [-8.645082 ],\n",
       "        [-7.273337 ]], dtype=float32)}"
      ]
     },
     "execution_count": 136,
     "metadata": {},
     "output_type": "execute_result"
    }
   ],
   "source": [
    "w_final"
   ]
  },
  {
   "cell_type": "code",
   "execution_count": 137,
   "metadata": {},
   "outputs": [
    {
     "data": {
      "text/plain": [
       "{'oculta': array([-3.156663 ,  2.224952 , -5.9450684], dtype=float32),\n",
       " 'saida': array([4.682876], dtype=float32)}"
      ]
     },
     "execution_count": 137,
     "metadata": {},
     "output_type": "execute_result"
    }
   ],
   "source": [
    "b_final"
   ]
  },
  {
   "cell_type": "code",
   "execution_count": 138,
   "metadata": {},
   "outputs": [],
   "source": [
    "# teste\n",
    "\n",
    "camada_oculta_teste = tf.add(tf.matmul(xph, w_final['oculta']), b_final['oculta'])\n",
    "camada_oculta_ativacao_teste = tf.sigmoid(camada_oculta_teste)\n",
    "camada_saida_teste = tf.add(tf.matmul(camada_oculta_ativacao_teste, w_final['saida']), b_final['saida'])\n",
    "camada_saida_ativacao_teste = tf.sigmoid(camada_saida_teste)"
   ]
  },
  {
   "cell_type": "code",
   "execution_count": 139,
   "metadata": {},
   "outputs": [
    {
     "name": "stdout",
     "output_type": "stream",
     "text": [
      "[[0.03721458]\n",
      " [0.95739293]\n",
      " [0.9573771 ]\n",
      " [0.04083773]]\n"
     ]
    }
   ],
   "source": [
    "with tf.Session() as sess:\n",
    "    sess.run(init)\n",
    "    print(sess.run(camada_saida_ativacao_teste,  feed_dict = {xph: x}))"
   ]
  }
 ],
 "metadata": {
  "kernelspec": {
   "display_name": "Python 3",
   "language": "python",
   "name": "python3"
  },
  "language_info": {
   "codemirror_mode": {
    "name": "ipython",
    "version": 3
   },
   "file_extension": ".py",
   "mimetype": "text/x-python",
   "name": "python",
   "nbconvert_exporter": "python",
   "pygments_lexer": "ipython3",
   "version": "3.7.6"
  }
 },
 "nbformat": 4,
 "nbformat_minor": 4
}
