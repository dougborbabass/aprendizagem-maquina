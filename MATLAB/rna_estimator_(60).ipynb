{
 "cells": [
  {
   "cell_type": "code",
   "execution_count": 25,
   "metadata": {},
   "outputs": [],
   "source": [
    "import tensorflow as tf\n",
    "import numpy as np\n",
    "import pandas as pd"
   ]
  },
  {
   "cell_type": "code",
   "execution_count": 51,
   "metadata": {},
   "outputs": [],
   "source": [
    "base = pd.read_csv('test.csv')"
   ]
  },
  {
   "cell_type": "code",
   "execution_count": 52,
   "metadata": {
    "scrolled": true
   },
   "outputs": [],
   "source": [
    "x = base.drop('Forma de onda', axis=1) # atributos previsores\n",
    "y = base.iloc[:,-1] # pegando a ultima coluna para saber qual a classeb"
   ]
  },
  {
   "cell_type": "code",
   "execution_count": 53,
   "metadata": {},
   "outputs": [],
   "source": [
    "from sklearn.preprocessing import StandardScaler\n",
    "scaler_x = StandardScaler()\n",
    "x = scaler_x.fit_transform(x)"
   ]
  },
  {
   "cell_type": "code",
   "execution_count": 54,
   "metadata": {
    "scrolled": true
   },
   "outputs": [],
   "source": [
    "from sklearn.model_selection import train_test_split\n",
    "x_treinamento, x_teste, y_treinamento, y_teste = train_test_split(x, y, test_size = 0.3)"
   ]
  },
  {
   "cell_type": "code",
   "execution_count": 55,
   "metadata": {},
   "outputs": [
    {
     "data": {
      "text/plain": [
       "(150,)"
      ]
     },
     "execution_count": 55,
     "metadata": {},
     "output_type": "execute_result"
    }
   ],
   "source": [
    "from sklearn.preprocessing import OneHotEncoder\n",
    "onehot = OneHotEncoder(categories = 'auto')\n",
    "y.shape"
   ]
  },
  {
   "cell_type": "code",
   "execution_count": 56,
   "metadata": {},
   "outputs": [
    {
     "data": {
      "text/plain": [
       "(150, 1)"
      ]
     },
     "execution_count": 56,
     "metadata": {},
     "output_type": "execute_result"
    }
   ],
   "source": [
    "y = y.values.reshape(-1,1)\n",
    "y.shape"
   ]
  },
  {
   "cell_type": "code",
   "execution_count": 57,
   "metadata": {},
   "outputs": [
    {
     "data": {
      "text/plain": [
       "(150, 1000)"
      ]
     },
     "execution_count": 57,
     "metadata": {},
     "output_type": "execute_result"
    }
   ],
   "source": [
    "x.shape"
   ]
  },
  {
   "cell_type": "code",
   "execution_count": 58,
   "metadata": {},
   "outputs": [
    {
     "data": {
      "text/plain": [
       "(150, 3)"
      ]
     },
     "execution_count": 58,
     "metadata": {},
     "output_type": "execute_result"
    }
   ],
   "source": [
    "y = onehot.fit_transform(y).toarray()\n",
    "y.shape"
   ]
  },
  {
   "cell_type": "code",
   "execution_count": 59,
   "metadata": {},
   "outputs": [
    {
     "data": {
      "text/plain": [
       "1000"
      ]
     },
     "execution_count": 59,
     "metadata": {},
     "output_type": "execute_result"
    }
   ],
   "source": [
    "neuronios_entrada = x.shape[1]\n",
    "neuronios_entrada"
   ]
  },
  {
   "cell_type": "code",
   "execution_count": 60,
   "metadata": {},
   "outputs": [
    {
     "data": {
      "text/plain": [
       "501"
      ]
     },
     "execution_count": 60,
     "metadata": {},
     "output_type": "execute_result"
    }
   ],
   "source": [
    "neuronios_oculta1 = int((neuronios_entrada + y.shape[1])/2)\n",
    "neuronios_oculta1"
   ]
  },
  {
   "cell_type": "code",
   "execution_count": 61,
   "metadata": {},
   "outputs": [
    {
     "data": {
      "text/plain": [
       "3"
      ]
     },
     "execution_count": 61,
     "metadata": {},
     "output_type": "execute_result"
    }
   ],
   "source": [
    "neuronios_oculta2 = neuronios_oculta1\n",
    "neuronios_oculta3 = neuronios_oculta1\n",
    "neuronios_saida = y.shape[1]\n",
    "neuronios_saida"
   ]
  },
  {
   "cell_type": "code",
   "execution_count": 38,
   "metadata": {},
   "outputs": [],
   "source": [
    "# 1000 -> 501 -> 501 -> 501 -> 3"
   ]
  },
  {
   "cell_type": "code",
   "execution_count": 62,
   "metadata": {},
   "outputs": [
    {
     "data": {
      "text/plain": [
       "{'oculta1': <tf.Variable 'Variable_19:0' shape=(1000, 501) dtype=float32_ref>,\n",
       " 'oculta2': <tf.Variable 'Variable_20:0' shape=(501, 501) dtype=float32_ref>,\n",
       " 'oculta3': <tf.Variable 'Variable_21:0' shape=(501, 501) dtype=float32_ref>,\n",
       " 'saida': <tf.Variable 'Variable_22:0' shape=(501, 3) dtype=float32_ref>}"
      ]
     },
     "execution_count": 62,
     "metadata": {},
     "output_type": "execute_result"
    }
   ],
   "source": [
    "w = {'oculta1': tf.Variable(tf.random_normal([neuronios_entrada, neuronios_oculta1])),\n",
    "     'oculta2': tf.Variable(tf.random_normal([neuronios_oculta1, neuronios_oculta2])),\n",
    "     'oculta3': tf.Variable(tf.random_normal([neuronios_oculta2, neuronios_oculta3])),\n",
    "     'saida': tf.Variable(tf.random_normal([neuronios_oculta3, neuronios_saida]))}\n",
    "w"
   ]
  },
  {
   "cell_type": "code",
   "execution_count": 63,
   "metadata": {},
   "outputs": [
    {
     "data": {
      "text/plain": [
       "{'oculta1': <tf.Variable 'Variable_23:0' shape=(501,) dtype=float32_ref>,\n",
       " 'oculta2': <tf.Variable 'Variable_24:0' shape=(501,) dtype=float32_ref>,\n",
       " 'oculta3': <tf.Variable 'Variable_25:0' shape=(501,) dtype=float32_ref>,\n",
       " 'saida': <tf.Variable 'Variable_26:0' shape=(3,) dtype=float32_ref>}"
      ]
     },
     "execution_count": 63,
     "metadata": {},
     "output_type": "execute_result"
    }
   ],
   "source": [
    "b = {'oculta1': tf.Variable(tf.random_normal([neuronios_oculta1])),\n",
    "     'oculta2': tf.Variable(tf.random_normal([neuronios_oculta2])),\n",
    "     'oculta3': tf.Variable(tf.random_normal([neuronios_oculta3])),\n",
    "     'saida': tf.Variable(tf.random_normal([neuronios_saida]))}\n",
    "b"
   ]
  },
  {
   "cell_type": "code",
   "execution_count": 64,
   "metadata": {},
   "outputs": [],
   "source": [
    "xph = tf.placeholder('float', [None, neuronios_entrada])\n",
    "yph = tf.placeholder('float', [None, neuronios_saida])"
   ]
  },
  {
   "cell_type": "code",
   "execution_count": 65,
   "metadata": {},
   "outputs": [],
   "source": [
    "def mlp(x, w, bias):\n",
    "    camada_oculta1 = tf.nn.relu(tf.add(tf.matmul(x, w['oculta1']), b['oculta1']))\n",
    "    camada_oculta2 = tf.nn.relu(tf.add(tf.matmul(camada_oculta1, w['oculta2']), b['oculta2']))\n",
    "    camada_oculta3 = tf.nn.relu(tf.add(tf.matmul(camada_oculta2, w['oculta3']), b['oculta3']))\n",
    "    camada_saida = tf.add(tf.matmul(camada_oculta3, w['saida']), b['saida'])\n",
    "    return camada_saida"
   ]
  },
  {
   "cell_type": "code",
   "execution_count": 66,
   "metadata": {},
   "outputs": [],
   "source": [
    "modelo = mlp(xph, w, b)\n",
    "erro = tf.reduce_mean(tf.nn.softmax_cross_entropy_with_logits_v2(logits = modelo, labels = yph))\n",
    "otimizador = tf.train.AdamOptimizer(learning_rate = 0.0001).minimize(erro)"
   ]
  },
  {
   "cell_type": "code",
   "execution_count": 67,
   "metadata": {},
   "outputs": [
    {
     "data": {
      "text/plain": [
       "[array([[ 0.9860084 ,  0.99302578,  1.0000573 , ..., -1.04822626,\n",
       "         -1.04101563,  0.9860084 ],\n",
       "        [ 1.33188484,  1.34074945,  1.34963723, ..., -1.38861471,\n",
       "         -1.37962925,  1.33188484],\n",
       "        [ 0.86045526,  0.85567493,  0.85043709, ...,  1.5719139 ,\n",
       "          1.55547355,  0.86045526],\n",
       "        ...,\n",
       "        [-0.29996019, -0.3126766 , -0.3257246 , ...,  0.43467606,\n",
       "          0.42162587, -0.29996019],\n",
       "        [ 0.81307018,  0.81916395,  0.82526733, ..., -0.87803203,\n",
       "         -0.87170883,  0.81307018],\n",
       "        [ 0.12131731,  0.1237166 ,  0.12610747, ..., -0.19725511,\n",
       "         -0.1944816 ,  0.12131731]]),\n",
       " array([[ 1.17502987,  1.17853636,  1.18183886, ...,  1.8697538 ,\n",
       "          1.85734759,  1.17502987],\n",
       "        [-0.22646144, -0.22661499, -0.22679348, ...,  0.48267083,\n",
       "          0.48156048, -0.22646144],\n",
       "        [-0.05162091, -0.05014523, -0.0486825 , ..., -0.02706088,\n",
       "         -0.02517479, -0.05162091],\n",
       "        ...,\n",
       "        [ 0.9860084 ,  0.97077147,  0.95531107, ..., -1.00465653,\n",
       "         -1.01934436,  0.9860084 ],\n",
       "        [ 0.81307018,  0.81916395,  0.82526733, ..., -0.87803203,\n",
       "         -0.87170883,  0.81307018],\n",
       "        [ 1.33188484,  1.32336327,  1.31467924, ..., -1.35457587,\n",
       "         -1.36269857,  1.33188484]]),\n",
       " array([[-0.29996019, -0.30833006, -0.3169851 , ...,  0.42633654,\n",
       "          0.4173932 , -0.29996019],\n",
       "        [-0.22455912, -0.22400707, -0.22347247, ...,  0.14313335,\n",
       "          0.14413201, -0.22455912],\n",
       "        [ 0.33005374,  0.33652349,  0.34302181, ...,  1.02354809,\n",
       "          1.02283434,  0.33005374],\n",
       "        ...,\n",
       "        [ 1.33188484,  1.31293156,  1.29370444, ..., -1.33415256,\n",
       "         -1.35254016,  1.33188484],\n",
       "        [ 0.17267996,  0.14336299,  0.11317301, ...,  0.93606826,\n",
       "          0.9024572 ,  0.17267996],\n",
       "        [ 1.15894662,  1.15749908,  1.15596995, ..., -1.20003951,\n",
       "         -1.20117987,  1.15894662]]),\n",
       " array([[-1.43512665, -1.42017649, -1.40505264, ...,  1.29364633,\n",
       "          1.30896284, -1.43512665],\n",
       "        [-1.78100308, -1.77763643, -1.77420905, ...,  1.65309654,\n",
       "          1.65705764, -1.78100308],\n",
       "        [ 0.64013197,  0.64530211,  0.65047736, ..., -0.7078378 ,\n",
       "         -0.70240202,  0.64013197],\n",
       "        ...,\n",
       "        [ 1.33188484,  1.31988603,  1.30768764, ..., -1.3477681 ,\n",
       "         -1.35931243,  1.33188484],\n",
       "        [-0.91631199, -0.91528172, -0.91424242, ...,  0.81574094,\n",
       "          0.81729588, -0.91631199],\n",
       "        [-0.11249516, -0.15168054, -0.19235985, ...,  0.6695441 ,\n",
       "          0.63071978, -0.11249516]]),\n",
       " array([[ 0.29425553,  0.29479665,  0.29530415, ..., -0.36200312,\n",
       "         -0.3610795 ,  0.29425553],\n",
       "        [ 0.64013197,  0.64530211,  0.65047736, ..., -0.7078378 ,\n",
       "         -0.70240202,  0.64013197],\n",
       "        [-0.59084227, -0.54982415, -0.50785574, ...,  0.04254856,\n",
       "          0.08368948, -0.59084227],\n",
       "        ...,\n",
       "        [-0.57043556, -0.5682535 , -0.5660608 , ...,  0.47671403,\n",
       "          0.47935949, -0.57043556],\n",
       "        [ 0.81307018,  0.81916395,  0.82526733, ..., -0.87803203,\n",
       "         -0.87170883,  0.81307018],\n",
       "        [-0.27540296, -0.3295412 , -0.38445403, ...,  0.53815415,\n",
       "          0.48528523, -0.27540296]]),\n",
       " array([[-0.22455912, -0.22713658, -0.22976491, ...,  0.14926034,\n",
       "          0.14717954, -0.22455912],\n",
       "        [-1.55825866, -1.54344454, -1.52478377, ..., -0.85999144,\n",
       "         -0.84021776, -1.55825866],\n",
       "        [-0.05162091, -0.05014523, -0.0486825 , ..., -0.02706088,\n",
       "         -0.02517479, -0.05162091],\n",
       "        ...,\n",
       "        [-1.78100308, -1.76372748, -1.74624266, ...,  1.62586547,\n",
       "          1.64351309, -1.78100308],\n",
       "        [-0.74337378, -0.74281078, -0.74224909, ...,  0.64826982,\n",
       "          0.64934352, -0.74337378],\n",
       "        [-0.05663611, -0.03345449, -0.01127745, ...,  0.60316835,\n",
       "          0.62496334, -0.05663611]]),\n",
       " array([[ 1.21317313e-01,  1.23716605e-01,  1.26107465e-01, ...,\n",
       "         -1.97255111e-01, -1.94481600e-01,  1.21317313e-01],\n",
       "        [-5.16209051e-02, -5.01452306e-02, -4.86825015e-02, ...,\n",
       "         -2.70608824e-02, -2.51747934e-02, -5.16209051e-02],\n",
       "        [-1.60806487e+00, -1.59299516e+00, -1.57774513e+00, ...,\n",
       "          1.46179823e+00,  1.47725381e+00, -1.60806487e+00],\n",
       "        ...,\n",
       "        [-6.87341794e-01, -6.57792346e-01, -6.27412081e-01, ...,\n",
       "         -3.30176804e-02, -9.63920086e-04, -6.87341794e-01],\n",
       "        [ 9.86008402e-01,  9.93025783e-01,  1.00005730e+00, ...,\n",
       "         -1.04822626e+00, -1.04101563e+00,  9.86008402e-01],\n",
       "        [ 2.94255531e-01,  2.97578440e-01,  3.00897432e-01, ...,\n",
       "         -3.67449340e-01, -3.63788407e-01,  2.94255531e-01]]),\n",
       " array([[ 1.33188484,  1.34074945,  1.34963723, ..., -1.38861471,\n",
       "         -1.37962925,  1.33188484],\n",
       "        [ 0.39784552,  0.45231547,  0.50470253, ...,  0.98950925,\n",
       "          1.04027294,  0.39784552],\n",
       "        [-1.57537954, -1.61368472, -1.65115691, ..., -0.78068093,\n",
       "         -0.80788016, -1.57537954],\n",
       "        ...,\n",
       "        [-0.4941698 , -0.48027941, -0.46608094, ...,  0.18976657,\n",
       "          0.20457454, -0.4941698 ],\n",
       "        [-1.18280979, -1.22058311, -1.25683075, ..., -0.38855342,\n",
       "         -0.42101411, -1.18280979],\n",
       "        [ 0.46719375,  0.46100857,  0.4547126 , ..., -0.51722026,\n",
       "         -0.52293681,  0.46719375]]),\n",
       " array([[-0.89504059, -0.8921581 , -0.8883735 , ..., -0.1858521 ,\n",
       "         -0.17873607, -0.89504059],\n",
       "        [-0.34872876, -0.36831239, -0.38829941, ...,  0.39910547,\n",
       "          0.3801457 , -0.34872876],\n",
       "        [ 0.12131731,  0.1237166 ,  0.12610747, ..., -0.19725511,\n",
       "         -0.1944816 ,  0.12131731],\n",
       "        ...,\n",
       "        [-0.52841157, -0.53504589, -0.54141542, ...,  0.19640414,\n",
       "          0.19103   , -0.52841157],\n",
       "        [ 1.33188484,  1.34074945,  1.34963723, ..., -1.38861471,\n",
       "         -1.37962925,  1.33188484],\n",
       "        [-0.22455912, -0.22505024, -0.22556995, ...,  0.14517568,\n",
       "          0.14514785, -0.22455912]]),\n",
       " array([[ 0.1706047 ,  0.18543756,  0.2003932 , ...,  0.84773745,\n",
       "          0.85742159,  0.1706047 ],\n",
       "        [-1.05189556, -1.08688336, -1.11997021, ..., -0.26380105,\n",
       "         -0.29488054, -1.05189556],\n",
       "        [ 0.64013197,  0.64530211,  0.65047736, ..., -0.7078378 ,\n",
       "         -0.70240202,  0.64013197],\n",
       "        ...,\n",
       "        [-0.29996019, -0.31702315, -0.3344641 , ...,  0.44318577,\n",
       "          0.42585854, -0.29996019],\n",
       "        [-0.57043556, -0.5696444 , -0.56885744, ...,  0.47943714,\n",
       "          0.48071394, -0.57043556],\n",
       "        [ 1.01782903,  0.99041786,  0.95915645, ...,  1.76321221,\n",
       "          1.72918234,  1.01782903]]),\n",
       " array([[ 1.17502987,  1.17384209,  1.17222541, ...,  1.87826351,\n",
       "          1.86174957,  1.17502987],\n",
       "        [-1.43512665, -1.4306082 , -1.42602744, ...,  1.31406964,\n",
       "          1.31912125, -1.43512665],\n",
       "        [ 1.33188484,  1.34074945,  1.34963723, ..., -1.38861471,\n",
       "         -1.37962925,  1.33188484],\n",
       "        ...,\n",
       "        [ 0.64013197,  0.64530211,  0.65047736, ..., -0.7078378 ,\n",
       "         -0.70240202,  0.64013197],\n",
       "        [-0.22455912, -0.22400707, -0.22347247, ...,  0.14313335,\n",
       "          0.14413201, -0.22455912],\n",
       "        [-1.9539413 , -1.93133029, -1.90844775, ...,  1.78380571,\n",
       "          1.80672485, -1.9539413 ]]),\n",
       " array([[ 0.29425553,  0.29757844,  0.30089743, ..., -0.36744934,\n",
       "         -0.36378841,  0.29425553],\n",
       "        [ 0.28681919,  0.2895808 ,  0.29215793, ...,  0.9879775 ,\n",
       "          0.98406308,  0.28681919],\n",
       "        [ 1.15894662,  1.16688762,  1.17484726, ..., -1.21842048,\n",
       "         -1.21032244,  1.15894662],\n",
       "        ...,\n",
       "        [-1.70629377, -1.77589781, -1.84167798, ..., -0.84075949,\n",
       "         -0.90319989, -1.70629377],\n",
       "        [-0.05162091, -0.05223157, -0.05287746, ..., -0.02297622,\n",
       "         -0.02314311, -0.05162091],\n",
       "        [ 1.33188484,  1.34074945,  1.34963723, ..., -1.38861471,\n",
       "         -1.37962925,  1.33188484]]),\n",
       " array([[ 1.15894662,  1.16688762,  1.17484726, ..., -1.21842048,\n",
       "         -1.21032244,  1.15894662],\n",
       "        [ 0.80027276,  0.79586646,  0.78821186, ...,  1.50349582,\n",
       "          1.49316865,  0.80027276],\n",
       "        [-0.17025652, -0.16454632, -0.15880018, ...,  0.52709153,\n",
       "          0.53099807, -0.17025652],\n",
       "        ...,\n",
       "        [ 0.64013197,  0.64530211,  0.65047736, ..., -0.7078378 ,\n",
       "         -0.70240202,  0.64013197],\n",
       "        [ 0.81307018,  0.81916395,  0.82526733, ..., -0.87803203,\n",
       "         -0.87170883,  0.81307018],\n",
       "        [-0.04107167, -0.05466564, -0.06843377, ...,  0.6930309 ,\n",
       "          0.67677123, -0.04107167]])]"
      ]
     },
     "execution_count": 67,
     "metadata": {},
     "output_type": "execute_result"
    }
   ],
   "source": [
    "batch_size = 8\n",
    "batch_total = int(len(x_treinamento) / batch_size)\n",
    "x_batches = np.array_split(x_treinamento, batch_total)\n",
    "x_batches"
   ]
  },
  {
   "cell_type": "code",
   "execution_count": 68,
   "metadata": {},
   "outputs": [
    {
     "ename": "ValueError",
     "evalue": "Cannot feed value of shape (9,) for Tensor 'Placeholder_5:0', which has shape '(?, 3)'",
     "output_type": "error",
     "traceback": [
      "\u001b[1;31m---------------------------------------------------------------------------\u001b[0m",
      "\u001b[1;31mValueError\u001b[0m                                Traceback (most recent call last)",
      "\u001b[1;32m<ipython-input-68-f65b0fbc73be>\u001b[0m in \u001b[0;36m<module>\u001b[1;34m\u001b[0m\n\u001b[0;32m      8\u001b[0m         \u001b[1;32mfor\u001b[0m \u001b[0mi\u001b[0m \u001b[1;32min\u001b[0m \u001b[0mrange\u001b[0m\u001b[1;33m(\u001b[0m\u001b[0mbatch_total\u001b[0m\u001b[1;33m)\u001b[0m\u001b[1;33m:\u001b[0m\u001b[1;33m\u001b[0m\u001b[1;33m\u001b[0m\u001b[0m\n\u001b[0;32m      9\u001b[0m             \u001b[0mx_batch\u001b[0m\u001b[1;33m,\u001b[0m \u001b[0my_batch\u001b[0m \u001b[1;33m=\u001b[0m \u001b[0mx_batches\u001b[0m\u001b[1;33m[\u001b[0m\u001b[0mi\u001b[0m\u001b[1;33m]\u001b[0m\u001b[1;33m,\u001b[0m \u001b[0my_batches\u001b[0m\u001b[1;33m[\u001b[0m\u001b[0mi\u001b[0m\u001b[1;33m]\u001b[0m\u001b[1;33m\u001b[0m\u001b[1;33m\u001b[0m\u001b[0m\n\u001b[1;32m---> 10\u001b[1;33m             \u001b[0m_\u001b[0m\u001b[1;33m,\u001b[0m \u001b[0mcusto\u001b[0m \u001b[1;33m=\u001b[0m \u001b[0msess\u001b[0m\u001b[1;33m.\u001b[0m\u001b[0mrun\u001b[0m\u001b[1;33m(\u001b[0m\u001b[1;33m[\u001b[0m\u001b[0motimizador\u001b[0m\u001b[1;33m,\u001b[0m \u001b[0merro\u001b[0m\u001b[1;33m]\u001b[0m\u001b[1;33m,\u001b[0m \u001b[0mfeed_dict\u001b[0m \u001b[1;33m=\u001b[0m \u001b[1;33m{\u001b[0m\u001b[0mxph\u001b[0m\u001b[1;33m:\u001b[0m \u001b[0mx_batch\u001b[0m\u001b[1;33m,\u001b[0m \u001b[0myph\u001b[0m\u001b[1;33m:\u001b[0m \u001b[0my_batch\u001b[0m\u001b[1;33m}\u001b[0m\u001b[1;33m)\u001b[0m\u001b[1;33m\u001b[0m\u001b[1;33m\u001b[0m\u001b[0m\n\u001b[0m\u001b[0;32m     11\u001b[0m             \u001b[0merro_medio\u001b[0m \u001b[1;33m+=\u001b[0m \u001b[0mcusto\u001b[0m \u001b[1;33m/\u001b[0m \u001b[0mbatch_total\u001b[0m\u001b[1;33m\u001b[0m\u001b[1;33m\u001b[0m\u001b[0m\n\u001b[0;32m     12\u001b[0m         \u001b[1;32mif\u001b[0m \u001b[0mepoca\u001b[0m \u001b[1;33m%\u001b[0m \u001b[1;36m100\u001b[0m \u001b[1;33m==\u001b[0m \u001b[1;36m0\u001b[0m\u001b[1;33m:\u001b[0m\u001b[1;33m\u001b[0m\u001b[1;33m\u001b[0m\u001b[0m\n",
      "\u001b[1;32m~\\anaconda3\\lib\\site-packages\\tensorflow\\python\\client\\session.py\u001b[0m in \u001b[0;36mrun\u001b[1;34m(self, fetches, feed_dict, options, run_metadata)\u001b[0m\n\u001b[0;32m    948\u001b[0m     \u001b[1;32mtry\u001b[0m\u001b[1;33m:\u001b[0m\u001b[1;33m\u001b[0m\u001b[1;33m\u001b[0m\u001b[0m\n\u001b[0;32m    949\u001b[0m       result = self._run(None, fetches, feed_dict, options_ptr,\n\u001b[1;32m--> 950\u001b[1;33m                          run_metadata_ptr)\n\u001b[0m\u001b[0;32m    951\u001b[0m       \u001b[1;32mif\u001b[0m \u001b[0mrun_metadata\u001b[0m\u001b[1;33m:\u001b[0m\u001b[1;33m\u001b[0m\u001b[1;33m\u001b[0m\u001b[0m\n\u001b[0;32m    952\u001b[0m         \u001b[0mproto_data\u001b[0m \u001b[1;33m=\u001b[0m \u001b[0mtf_session\u001b[0m\u001b[1;33m.\u001b[0m\u001b[0mTF_GetBuffer\u001b[0m\u001b[1;33m(\u001b[0m\u001b[0mrun_metadata_ptr\u001b[0m\u001b[1;33m)\u001b[0m\u001b[1;33m\u001b[0m\u001b[1;33m\u001b[0m\u001b[0m\n",
      "\u001b[1;32m~\\anaconda3\\lib\\site-packages\\tensorflow\\python\\client\\session.py\u001b[0m in \u001b[0;36m_run\u001b[1;34m(self, handle, fetches, feed_dict, options, run_metadata)\u001b[0m\n\u001b[0;32m   1147\u001b[0m                              \u001b[1;34m'which has shape %r'\u001b[0m \u001b[1;33m%\u001b[0m\u001b[1;33m\u001b[0m\u001b[1;33m\u001b[0m\u001b[0m\n\u001b[0;32m   1148\u001b[0m                              (np_val.shape, subfeed_t.name,\n\u001b[1;32m-> 1149\u001b[1;33m                               str(subfeed_t.get_shape())))\n\u001b[0m\u001b[0;32m   1150\u001b[0m           \u001b[1;32mif\u001b[0m \u001b[1;32mnot\u001b[0m \u001b[0mself\u001b[0m\u001b[1;33m.\u001b[0m\u001b[0mgraph\u001b[0m\u001b[1;33m.\u001b[0m\u001b[0mis_feedable\u001b[0m\u001b[1;33m(\u001b[0m\u001b[0msubfeed_t\u001b[0m\u001b[1;33m)\u001b[0m\u001b[1;33m:\u001b[0m\u001b[1;33m\u001b[0m\u001b[1;33m\u001b[0m\u001b[0m\n\u001b[0;32m   1151\u001b[0m             \u001b[1;32mraise\u001b[0m \u001b[0mValueError\u001b[0m\u001b[1;33m(\u001b[0m\u001b[1;34m'Tensor %s may not be fed.'\u001b[0m \u001b[1;33m%\u001b[0m \u001b[0msubfeed_t\u001b[0m\u001b[1;33m)\u001b[0m\u001b[1;33m\u001b[0m\u001b[1;33m\u001b[0m\u001b[0m\n",
      "\u001b[1;31mValueError\u001b[0m: Cannot feed value of shape (9,) for Tensor 'Placeholder_5:0', which has shape '(?, 3)'"
     ]
    }
   ],
   "source": [
    "with tf.Session() as sess:\n",
    "    sess.run(tf.global_variables_initializer())\n",
    "    for epocas in range (500):\n",
    "        erro_medio = 0.0\n",
    "        batch_total = int(len(x_treinamento) / batch_size)\n",
    "        x_batches = np.array_split(x_treinamento, batch_total)\n",
    "        y_batches = np.array_split(y_treinamento, batch_total)\n",
    "        for i in range(batch_total):\n",
    "            x_batch, y_batch = x_batches[i], y_batches[i]\n",
    "            _, custo = sess.run([otimizador, erro], feed_dict = {xph: x_batch, yph: y_batch})\n",
    "            erro_medio += custo / batch_total\n",
    "        if epoca % 100 == 0:\n",
    "            print('Época: ' + str(epoca+1) + ' erro: '+ str(erro_medio))\n",
    "    w_final, b_final = sess.run([w,b])"
   ]
  }
 ],
 "metadata": {
  "kernelspec": {
   "display_name": "Python 3",
   "language": "python",
   "name": "python3"
  },
  "language_info": {
   "codemirror_mode": {
    "name": "ipython",
    "version": 3
   },
   "file_extension": ".py",
   "mimetype": "text/x-python",
   "name": "python",
   "nbconvert_exporter": "python",
   "pygments_lexer": "ipython3",
   "version": "3.7.6"
  }
 },
 "nbformat": 4,
 "nbformat_minor": 4
}
