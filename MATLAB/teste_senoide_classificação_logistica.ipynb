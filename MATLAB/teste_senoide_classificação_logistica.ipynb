{
 "cells": [
  {
   "cell_type": "code",
   "execution_count": 210,
   "metadata": {},
   "outputs": [],
   "source": [
    "import tensorflow as tf\n",
    "import numpy as np\n",
    "import pandas as pd"
   ]
  },
  {
   "cell_type": "code",
   "execution_count": 211,
   "metadata": {},
   "outputs": [],
   "source": [
    "base = pd.read_csv('test.csv')"
   ]
  },
  {
   "cell_type": "code",
   "execution_count": 212,
   "metadata": {},
   "outputs": [
    {
     "data": {
      "text/html": [
       "<div>\n",
       "<style scoped>\n",
       "    .dataframe tbody tr th:only-of-type {\n",
       "        vertical-align: middle;\n",
       "    }\n",
       "\n",
       "    .dataframe tbody tr th {\n",
       "        vertical-align: top;\n",
       "    }\n",
       "\n",
       "    .dataframe thead th {\n",
       "        text-align: right;\n",
       "    }\n",
       "</style>\n",
       "<table border=\"1\" class=\"dataframe\">\n",
       "  <thead>\n",
       "    <tr style=\"text-align: right;\">\n",
       "      <th></th>\n",
       "      <th>Amostra 1</th>\n",
       "      <th>Amostra 2</th>\n",
       "      <th>Amostra 3</th>\n",
       "      <th>Amostra 4</th>\n",
       "      <th>Amostra 5</th>\n",
       "      <th>Amostra 6</th>\n",
       "      <th>Amostra 7</th>\n",
       "      <th>Amostra 8</th>\n",
       "      <th>Amostra 9</th>\n",
       "      <th>Amostra 10</th>\n",
       "      <th>...</th>\n",
       "      <th>Amostra 92</th>\n",
       "      <th>Amostra 93</th>\n",
       "      <th>Amostra 94</th>\n",
       "      <th>Amostra 95</th>\n",
       "      <th>Amostra 96</th>\n",
       "      <th>Amostra 97</th>\n",
       "      <th>Amostra 98</th>\n",
       "      <th>Amostra 99</th>\n",
       "      <th>Amostra 100</th>\n",
       "      <th>Forma de onda</th>\n",
       "    </tr>\n",
       "  </thead>\n",
       "  <tbody>\n",
       "    <tr>\n",
       "      <th>0</th>\n",
       "      <td>0.0</td>\n",
       "      <td>0.063</td>\n",
       "      <td>0.127</td>\n",
       "      <td>0.189</td>\n",
       "      <td>0.251</td>\n",
       "      <td>0.312</td>\n",
       "      <td>0.372</td>\n",
       "      <td>0.430</td>\n",
       "      <td>0.486</td>\n",
       "      <td>0.541</td>\n",
       "      <td>...</td>\n",
       "      <td>-0.486</td>\n",
       "      <td>-0.430</td>\n",
       "      <td>-0.372</td>\n",
       "      <td>-0.312</td>\n",
       "      <td>-0.251</td>\n",
       "      <td>-0.189</td>\n",
       "      <td>-0.127</td>\n",
       "      <td>-0.063</td>\n",
       "      <td>0.0</td>\n",
       "      <td>1.0</td>\n",
       "    </tr>\n",
       "    <tr>\n",
       "      <th>1</th>\n",
       "      <td>0.0</td>\n",
       "      <td>0.127</td>\n",
       "      <td>0.253</td>\n",
       "      <td>0.379</td>\n",
       "      <td>0.502</td>\n",
       "      <td>0.624</td>\n",
       "      <td>0.743</td>\n",
       "      <td>0.860</td>\n",
       "      <td>0.972</td>\n",
       "      <td>1.081</td>\n",
       "      <td>...</td>\n",
       "      <td>-0.972</td>\n",
       "      <td>-0.860</td>\n",
       "      <td>-0.743</td>\n",
       "      <td>-0.624</td>\n",
       "      <td>-0.502</td>\n",
       "      <td>-0.379</td>\n",
       "      <td>-0.253</td>\n",
       "      <td>-0.127</td>\n",
       "      <td>0.0</td>\n",
       "      <td>1.0</td>\n",
       "    </tr>\n",
       "    <tr>\n",
       "      <th>2</th>\n",
       "      <td>0.0</td>\n",
       "      <td>0.254</td>\n",
       "      <td>0.506</td>\n",
       "      <td>0.757</td>\n",
       "      <td>1.005</td>\n",
       "      <td>1.248</td>\n",
       "      <td>1.487</td>\n",
       "      <td>1.719</td>\n",
       "      <td>1.945</td>\n",
       "      <td>2.163</td>\n",
       "      <td>...</td>\n",
       "      <td>-1.945</td>\n",
       "      <td>-1.719</td>\n",
       "      <td>-1.487</td>\n",
       "      <td>-1.248</td>\n",
       "      <td>-1.005</td>\n",
       "      <td>-0.757</td>\n",
       "      <td>-0.506</td>\n",
       "      <td>-0.254</td>\n",
       "      <td>0.0</td>\n",
       "      <td>1.0</td>\n",
       "    </tr>\n",
       "    <tr>\n",
       "      <th>3</th>\n",
       "      <td>0.0</td>\n",
       "      <td>0.507</td>\n",
       "      <td>1.013</td>\n",
       "      <td>1.514</td>\n",
       "      <td>2.009</td>\n",
       "      <td>2.496</td>\n",
       "      <td>2.973</td>\n",
       "      <td>3.438</td>\n",
       "      <td>3.890</td>\n",
       "      <td>4.325</td>\n",
       "      <td>...</td>\n",
       "      <td>-3.890</td>\n",
       "      <td>-3.438</td>\n",
       "      <td>-2.973</td>\n",
       "      <td>-2.496</td>\n",
       "      <td>-2.009</td>\n",
       "      <td>-1.514</td>\n",
       "      <td>-1.013</td>\n",
       "      <td>-0.507</td>\n",
       "      <td>0.0</td>\n",
       "      <td>1.0</td>\n",
       "    </tr>\n",
       "    <tr>\n",
       "      <th>4</th>\n",
       "      <td>0.0</td>\n",
       "      <td>0.634</td>\n",
       "      <td>1.266</td>\n",
       "      <td>1.893</td>\n",
       "      <td>2.511</td>\n",
       "      <td>3.120</td>\n",
       "      <td>3.717</td>\n",
       "      <td>4.298</td>\n",
       "      <td>4.862</td>\n",
       "      <td>5.406</td>\n",
       "      <td>...</td>\n",
       "      <td>-4.862</td>\n",
       "      <td>-4.298</td>\n",
       "      <td>-3.717</td>\n",
       "      <td>-3.120</td>\n",
       "      <td>-2.511</td>\n",
       "      <td>-1.893</td>\n",
       "      <td>-1.266</td>\n",
       "      <td>-0.634</td>\n",
       "      <td>0.0</td>\n",
       "      <td>1.0</td>\n",
       "    </tr>\n",
       "  </tbody>\n",
       "</table>\n",
       "<p>5 rows × 101 columns</p>\n",
       "</div>"
      ],
      "text/plain": [
       "   Amostra 1  Amostra 2  Amostra 3  Amostra 4  Amostra 5  Amostra 6  \\\n",
       "0        0.0      0.063      0.127      0.189      0.251      0.312   \n",
       "1        0.0      0.127      0.253      0.379      0.502      0.624   \n",
       "2        0.0      0.254      0.506      0.757      1.005      1.248   \n",
       "3        0.0      0.507      1.013      1.514      2.009      2.496   \n",
       "4        0.0      0.634      1.266      1.893      2.511      3.120   \n",
       "\n",
       "   Amostra 7  Amostra 8  Amostra 9  Amostra 10  ...  Amostra 92  Amostra 93  \\\n",
       "0      0.372      0.430      0.486       0.541  ...      -0.486      -0.430   \n",
       "1      0.743      0.860      0.972       1.081  ...      -0.972      -0.860   \n",
       "2      1.487      1.719      1.945       2.163  ...      -1.945      -1.719   \n",
       "3      2.973      3.438      3.890       4.325  ...      -3.890      -3.438   \n",
       "4      3.717      4.298      4.862       5.406  ...      -4.862      -4.298   \n",
       "\n",
       "   Amostra 94  Amostra 95  Amostra 96  Amostra 97  Amostra 98  Amostra 99  \\\n",
       "0      -0.372      -0.312      -0.251      -0.189      -0.127      -0.063   \n",
       "1      -0.743      -0.624      -0.502      -0.379      -0.253      -0.127   \n",
       "2      -1.487      -1.248      -1.005      -0.757      -0.506      -0.254   \n",
       "3      -2.973      -2.496      -2.009      -1.514      -1.013      -0.507   \n",
       "4      -3.717      -3.120      -2.511      -1.893      -1.266      -0.634   \n",
       "\n",
       "   Amostra 100  Forma de onda  \n",
       "0          0.0            1.0  \n",
       "1          0.0            1.0  \n",
       "2          0.0            1.0  \n",
       "3          0.0            1.0  \n",
       "4          0.0            1.0  \n",
       "\n",
       "[5 rows x 101 columns]"
      ]
     },
     "execution_count": 212,
     "metadata": {},
     "output_type": "execute_result"
    }
   ],
   "source": [
    "base.head()"
   ]
  },
  {
   "cell_type": "code",
   "execution_count": 213,
   "metadata": {},
   "outputs": [
    {
     "data": {
      "text/plain": [
       "(60, 101)"
      ]
     },
     "execution_count": 213,
     "metadata": {},
     "output_type": "execute_result"
    }
   ],
   "source": [
    "base.shape"
   ]
  },
  {
   "cell_type": "code",
   "execution_count": 214,
   "metadata": {},
   "outputs": [],
   "source": [
    "x = base.drop('Forma de onda', axis=1) # atributos previsores"
   ]
  },
  {
   "cell_type": "code",
   "execution_count": 215,
   "metadata": {
    "scrolled": true
   },
   "outputs": [],
   "source": [
    "y = base.iloc[:,-1] # pegando a ultima coluna para saber qual a classe"
   ]
  },
  {
   "cell_type": "code",
   "execution_count": 216,
   "metadata": {},
   "outputs": [],
   "source": [
    "from sklearn.model_selection import train_test_split\n",
    "x_treinamento, x_teste, y_treinamento, y_teste = train_test_split(x, y, test_size = 0.3)"
   ]
  },
  {
   "cell_type": "code",
   "execution_count": 217,
   "metadata": {
    "scrolled": true
   },
   "outputs": [
    {
     "data": {
      "text/plain": [
       "((60, 100), (18, 100), (60,), (18,))"
      ]
     },
     "execution_count": 217,
     "metadata": {},
     "output_type": "execute_result"
    }
   ],
   "source": [
    "x.shape, x_teste.shape, y.shape, y_teste.shape"
   ]
  },
  {
   "cell_type": "code",
   "execution_count": 218,
   "metadata": {},
   "outputs": [
    {
     "data": {
      "text/plain": [
       "LogisticRegression(C=1.0, class_weight=None, dual=False, fit_intercept=True,\n",
       "                   intercept_scaling=1, l1_ratio=None, max_iter=10000,\n",
       "                   multi_class='auto', n_jobs=None, penalty='l2',\n",
       "                   random_state=None, solver='lbfgs', tol=0.0001, verbose=0,\n",
       "                   warm_start=False)"
      ]
     },
     "execution_count": 218,
     "metadata": {},
     "output_type": "execute_result"
    }
   ],
   "source": [
    "from sklearn.linear_model import LogisticRegression\n",
    "classificador = LogisticRegression(max_iter = 10000)\n",
    "classificador.fit(x_treinamento, y_treinamento)"
   ]
  },
  {
   "cell_type": "code",
   "execution_count": 219,
   "metadata": {},
   "outputs": [
    {
     "data": {
      "text/plain": [
       "array([1., 3., 1., 3., 1., 2., 1., 2., 2., 2., 2., 3., 1., 3., 1., 3., 2.,\n",
       "       3.])"
      ]
     },
     "execution_count": 219,
     "metadata": {},
     "output_type": "execute_result"
    }
   ],
   "source": [
    "previsoes = classificador.predict(x_teste)\n",
    "previsoes"
   ]
  },
  {
   "cell_type": "code",
   "execution_count": 220,
   "metadata": {
    "collapsed": true
   },
   "outputs": [
    {
     "data": {
      "text/plain": [
       "19    1.0\n",
       "56    3.0\n",
       "50    3.0\n",
       "13    1.0\n",
       "4     1.0\n",
       "35    2.0\n",
       "9     1.0\n",
       "30    2.0\n",
       "34    2.0\n",
       "31    2.0\n",
       "24    2.0\n",
       "47    3.0\n",
       "2     1.0\n",
       "46    3.0\n",
       "6     1.0\n",
       "16    1.0\n",
       "21    2.0\n",
       "45    3.0\n",
       "Name: Forma de onda, dtype: float64"
      ]
     },
     "execution_count": 220,
     "metadata": {},
     "output_type": "execute_result"
    }
   ],
   "source": [
    "y_teste"
   ]
  },
  {
   "cell_type": "code",
   "execution_count": 221,
   "metadata": {},
   "outputs": [
    {
     "data": {
      "text/plain": [
       "0.8333333333333334"
      ]
     },
     "execution_count": 221,
     "metadata": {},
     "output_type": "execute_result"
    }
   ],
   "source": [
    "from sklearn.metrics import accuracy_score\n",
    "taxa_acerto = accuracy_score(y_teste, previsoes)\n",
    "taxa_acerto"
   ]
  }
 ],
 "metadata": {
  "kernelspec": {
   "display_name": "Python 3",
   "language": "python",
   "name": "python3"
  },
  "language_info": {
   "codemirror_mode": {
    "name": "ipython",
    "version": 3
   },
   "file_extension": ".py",
   "mimetype": "text/x-python",
   "name": "python",
   "nbconvert_exporter": "python",
   "pygments_lexer": "ipython3",
   "version": "3.7.6"
  }
 },
 "nbformat": 4,
 "nbformat_minor": 4
}
