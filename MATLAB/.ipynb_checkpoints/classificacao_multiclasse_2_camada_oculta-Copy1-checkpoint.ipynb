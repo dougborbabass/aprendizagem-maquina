{
 "cells": [
  {
   "cell_type": "code",
   "execution_count": null,
   "metadata": {},
   "outputs": [],
   "source": [
    "import tensorflow as tf\n",
    "import numpy as np\n",
    "import pandas as pd"
   ]
  },
  {
   "cell_type": "code",
   "execution_count": 2,
   "metadata": {},
   "outputs": [],
   "source": [
    "base = pd.read_csv('test.csv')\n",
    "base2 = pd.read_csv('test2.csv')"
   ]
  },
  {
   "cell_type": "code",
   "execution_count": 3,
   "metadata": {},
   "outputs": [],
   "source": [
    "x = base.drop('Forma de onda', axis=1) # atributos previsores\n",
    "x2 = base2.drop('Forma de onda', axis=1) # atributos previsores\n",
    "y = base.iloc[:,-1] # pegando a ultima coluna para saber qual a classe\n",
    "y2 = base.iloc[:,-1] # pegando a ultima coluna para saber qual a classe"
   ]
  },
  {
   "cell_type": "code",
   "execution_count": 4,
   "metadata": {},
   "outputs": [
    {
     "data": {
      "text/plain": [
       "((60,), (60,))"
      ]
     },
     "execution_count": 4,
     "metadata": {},
     "output_type": "execute_result"
    }
   ],
   "source": [
    "from sklearn.preprocessing import OneHotEncoder\n",
    "onehot = OneHotEncoder(categories = 'auto')\n",
    "y.shape, y2.shape"
   ]
  },
  {
   "cell_type": "code",
   "execution_count": 5,
   "metadata": {},
   "outputs": [
    {
     "data": {
      "text/plain": [
       "((60, 1), (60, 1))"
      ]
     },
     "execution_count": 5,
     "metadata": {},
     "output_type": "execute_result"
    }
   ],
   "source": [
    "y = y.values.reshape(-1,1)\n",
    "y2 = y2.values.reshape(-1,1)\n",
    "y.shape, y2.shape"
   ]
  },
  {
   "cell_type": "code",
   "execution_count": 6,
   "metadata": {
    "scrolled": true
   },
   "outputs": [
    {
     "data": {
      "text/plain": [
       "(array([[1., 0., 0.],\n",
       "        [1., 0., 0.],\n",
       "        [1., 0., 0.],\n",
       "        [1., 0., 0.],\n",
       "        [1., 0., 0.],\n",
       "        [1., 0., 0.],\n",
       "        [1., 0., 0.],\n",
       "        [1., 0., 0.],\n",
       "        [1., 0., 0.],\n",
       "        [1., 0., 0.],\n",
       "        [1., 0., 0.],\n",
       "        [1., 0., 0.],\n",
       "        [1., 0., 0.],\n",
       "        [1., 0., 0.],\n",
       "        [1., 0., 0.],\n",
       "        [1., 0., 0.],\n",
       "        [1., 0., 0.],\n",
       "        [1., 0., 0.],\n",
       "        [1., 0., 0.],\n",
       "        [1., 0., 0.],\n",
       "        [0., 1., 0.],\n",
       "        [0., 1., 0.],\n",
       "        [0., 1., 0.],\n",
       "        [0., 1., 0.],\n",
       "        [0., 1., 0.],\n",
       "        [0., 1., 0.],\n",
       "        [0., 1., 0.],\n",
       "        [0., 1., 0.],\n",
       "        [0., 1., 0.],\n",
       "        [0., 1., 0.],\n",
       "        [0., 1., 0.],\n",
       "        [0., 1., 0.],\n",
       "        [0., 1., 0.],\n",
       "        [0., 1., 0.],\n",
       "        [0., 1., 0.],\n",
       "        [0., 1., 0.],\n",
       "        [0., 1., 0.],\n",
       "        [0., 1., 0.],\n",
       "        [0., 1., 0.],\n",
       "        [0., 1., 0.],\n",
       "        [0., 0., 1.],\n",
       "        [0., 0., 1.],\n",
       "        [0., 0., 1.],\n",
       "        [0., 0., 1.],\n",
       "        [0., 0., 1.],\n",
       "        [0., 0., 1.],\n",
       "        [0., 0., 1.],\n",
       "        [0., 0., 1.],\n",
       "        [0., 0., 1.],\n",
       "        [0., 0., 1.],\n",
       "        [0., 0., 1.],\n",
       "        [0., 0., 1.],\n",
       "        [0., 0., 1.],\n",
       "        [0., 0., 1.],\n",
       "        [0., 0., 1.],\n",
       "        [0., 0., 1.],\n",
       "        [0., 0., 1.],\n",
       "        [0., 0., 1.],\n",
       "        [0., 0., 1.],\n",
       "        [0., 0., 1.]]),\n",
       " array([[1., 0., 0.],\n",
       "        [1., 0., 0.],\n",
       "        [1., 0., 0.],\n",
       "        [1., 0., 0.],\n",
       "        [1., 0., 0.],\n",
       "        [1., 0., 0.],\n",
       "        [1., 0., 0.],\n",
       "        [1., 0., 0.],\n",
       "        [1., 0., 0.],\n",
       "        [1., 0., 0.],\n",
       "        [1., 0., 0.],\n",
       "        [1., 0., 0.],\n",
       "        [1., 0., 0.],\n",
       "        [1., 0., 0.],\n",
       "        [1., 0., 0.],\n",
       "        [1., 0., 0.],\n",
       "        [1., 0., 0.],\n",
       "        [1., 0., 0.],\n",
       "        [1., 0., 0.],\n",
       "        [1., 0., 0.],\n",
       "        [0., 1., 0.],\n",
       "        [0., 1., 0.],\n",
       "        [0., 1., 0.],\n",
       "        [0., 1., 0.],\n",
       "        [0., 1., 0.],\n",
       "        [0., 1., 0.],\n",
       "        [0., 1., 0.],\n",
       "        [0., 1., 0.],\n",
       "        [0., 1., 0.],\n",
       "        [0., 1., 0.],\n",
       "        [0., 1., 0.],\n",
       "        [0., 1., 0.],\n",
       "        [0., 1., 0.],\n",
       "        [0., 1., 0.],\n",
       "        [0., 1., 0.],\n",
       "        [0., 1., 0.],\n",
       "        [0., 1., 0.],\n",
       "        [0., 1., 0.],\n",
       "        [0., 1., 0.],\n",
       "        [0., 1., 0.],\n",
       "        [0., 0., 1.],\n",
       "        [0., 0., 1.],\n",
       "        [0., 0., 1.],\n",
       "        [0., 0., 1.],\n",
       "        [0., 0., 1.],\n",
       "        [0., 0., 1.],\n",
       "        [0., 0., 1.],\n",
       "        [0., 0., 1.],\n",
       "        [0., 0., 1.],\n",
       "        [0., 0., 1.],\n",
       "        [0., 0., 1.],\n",
       "        [0., 0., 1.],\n",
       "        [0., 0., 1.],\n",
       "        [0., 0., 1.],\n",
       "        [0., 0., 1.],\n",
       "        [0., 0., 1.],\n",
       "        [0., 0., 1.],\n",
       "        [0., 0., 1.],\n",
       "        [0., 0., 1.],\n",
       "        [0., 0., 1.]]))"
      ]
     },
     "execution_count": 6,
     "metadata": {},
     "output_type": "execute_result"
    }
   ],
   "source": [
    "y = onehot.fit_transform(y).toarray()\n",
    "y2 = onehot.fit_transform(y2).toarray()\n",
    "y, y2"
   ]
  },
  {
   "cell_type": "code",
   "execution_count": 7,
   "metadata": {},
   "outputs": [],
   "source": [
    "from sklearn.model_selection import train_test_split\n",
    "x_treinamento, x_teste, y_treinamento, y_teste = train_test_split(x, y, test_size = 0.3)"
   ]
  },
  {
   "cell_type": "code",
   "execution_count": 8,
   "metadata": {},
   "outputs": [
    {
     "data": {
      "text/plain": [
       "((60, 100), (18, 100), (60, 3), (18, 3))"
      ]
     },
     "execution_count": 8,
     "metadata": {},
     "output_type": "execute_result"
    }
   ],
   "source": [
    "x.shape, x_teste.shape, y.shape, y_teste.shape"
   ]
  },
  {
   "cell_type": "code",
   "execution_count": 9,
   "metadata": {},
   "outputs": [
    {
     "data": {
      "text/plain": [
       "100"
      ]
     },
     "execution_count": 9,
     "metadata": {},
     "output_type": "execute_result"
    }
   ],
   "source": [
    "neuronios_entrada = x.shape[1]\n",
    "neuronios_entrada"
   ]
  },
  {
   "cell_type": "code",
   "execution_count": 10,
   "metadata": {},
   "outputs": [
    {
     "data": {
      "text/plain": [
       "51"
      ]
     },
     "execution_count": 10,
     "metadata": {},
     "output_type": "execute_result"
    }
   ],
   "source": [
    "neuronios_oculta = int((neuronios_entrada + y.shape[1])/2)\n",
    "neuronios_oculta"
   ]
  },
  {
   "cell_type": "code",
   "execution_count": 11,
   "metadata": {},
   "outputs": [
    {
     "data": {
      "text/plain": [
       "3"
      ]
     },
     "execution_count": 11,
     "metadata": {},
     "output_type": "execute_result"
    }
   ],
   "source": [
    "neuronios_saida = y.shape[1]\n",
    "neuronios_saida"
   ]
  },
  {
   "cell_type": "code",
   "execution_count": 12,
   "metadata": {},
   "outputs": [
    {
     "data": {
      "text/plain": [
       "{'oculta': <tf.Variable 'Variable:0' shape=(100, 51) dtype=float32_ref>,\n",
       " 'saida': <tf.Variable 'Variable_1:0' shape=(51, 3) dtype=float32_ref>}"
      ]
     },
     "execution_count": 12,
     "metadata": {},
     "output_type": "execute_result"
    }
   ],
   "source": [
    "w = {'oculta': tf.Variable(tf.random_normal([neuronios_entrada, neuronios_oculta])),\n",
    "     'saida': tf.Variable(tf.random_normal([neuronios_oculta, neuronios_saida]))}\n",
    "w"
   ]
  },
  {
   "cell_type": "code",
   "execution_count": 13,
   "metadata": {},
   "outputs": [
    {
     "data": {
      "text/plain": [
       "{'oculta': <tf.Variable 'Variable_2:0' shape=(51,) dtype=float32_ref>,\n",
       " 'saida': <tf.Variable 'Variable_3:0' shape=(3,) dtype=float32_ref>}"
      ]
     },
     "execution_count": 13,
     "metadata": {},
     "output_type": "execute_result"
    }
   ],
   "source": [
    "b = {'oculta': tf.Variable(tf.random_normal([neuronios_oculta])),\n",
    "     'saida': tf.Variable(tf.random_normal([neuronios_saida]))}\n",
    "b"
   ]
  },
  {
   "cell_type": "code",
   "execution_count": 14,
   "metadata": {},
   "outputs": [],
   "source": [
    "xph = tf.placeholder('float', [None, neuronios_entrada])\n",
    "yph = tf.placeholder('float', [None, neuronios_saida])"
   ]
  },
  {
   "cell_type": "code",
   "execution_count": 15,
   "metadata": {},
   "outputs": [],
   "source": [
    "def mlp(x, w, bias):\n",
    "    camada_oculta = tf.add(tf.matmul(x, w['oculta']), b['oculta'])\n",
    "    camada_oculta_ativacao = tf.nn.relu(camada_oculta)\n",
    "    camada_saida = tf.add(tf.matmul(camada_oculta_ativacao, w['saida']), b['saida'])\n",
    "    return camada_saida"
   ]
  },
  {
   "cell_type": "code",
   "execution_count": 16,
   "metadata": {},
   "outputs": [],
   "source": [
    "modelo = mlp(xph, w, b)"
   ]
  },
  {
   "cell_type": "code",
   "execution_count": 17,
   "metadata": {},
   "outputs": [],
   "source": [
    "erro = tf.reduce_mean(tf.nn.softmax_cross_entropy_with_logits_v2(logits = modelo, labels = yph))\n",
    "otimizador = tf.train.AdamOptimizer(learning_rate = 0.0001).minimize(erro)"
   ]
  },
  {
   "cell_type": "code",
   "execution_count": 18,
   "metadata": {},
   "outputs": [],
   "source": [
    "batch_size = 3"
   ]
  },
  {
   "cell_type": "code",
   "execution_count": 19,
   "metadata": {},
   "outputs": [
    {
     "data": {
      "text/plain": [
       "14"
      ]
     },
     "execution_count": 19,
     "metadata": {},
     "output_type": "execute_result"
    }
   ],
   "source": [
    "batch_total = int(len(x_treinamento) / batch_size)\n",
    "batch_total"
   ]
  },
  {
   "cell_type": "code",
   "execution_count": 20,
   "metadata": {},
   "outputs": [
    {
     "data": {
      "text/plain": [
       "[    Amostra 1  Amostra 2  Amostra 3  Amostra 4  Amostra 5  Amostra 6  \\\n",
       " 40        1.0       1.00        1.0       1.00        1.0       1.00   \n",
       " 38        0.0       0.95        1.9       2.85        3.8       4.75   \n",
       " 46        7.0       7.00        7.0       7.00        7.0       7.00   \n",
       " \n",
       "     Amostra 7  Amostra 8  Amostra 9  Amostra 10  ...  Amostra 91  Amostra 92  \\\n",
       " 40        1.0       1.00        1.0        1.00  ...        -1.0       -1.00   \n",
       " 38        5.7       6.65        7.6        8.55  ...         9.5       10.45   \n",
       " 46        7.0       7.00        7.0        7.00  ...        -7.0       -7.00   \n",
       " \n",
       "     Amostra 93  Amostra 94  Amostra 95  Amostra 96  Amostra 97  Amostra 98  \\\n",
       " 40        -1.0       -1.00        -1.0       -1.00        -1.0       -1.00   \n",
       " 38        11.4       12.35        13.3       14.25        15.2       16.15   \n",
       " 46        -7.0       -7.00        -7.0       -7.00        -7.0       -7.00   \n",
       " \n",
       "     Amostra 99  Amostra 100  \n",
       " 40        -1.0        -1.00  \n",
       " 38        17.1        18.05  \n",
       " 46        -7.0        -7.00  \n",
       " \n",
       " [3 rows x 100 columns],\n",
       "     Amostra 1  Amostra 2  Amostra 3  Amostra 4  Amostra 5  Amostra 6  \\\n",
       " 32       0.00       0.35      0.700      1.050      1.400      1.750   \n",
       " 19       0.00       1.44      2.874      4.296      5.701      7.083   \n",
       " 59      10.54      10.54     10.540     10.540     10.540     10.540   \n",
       " \n",
       "     Amostra 7  Amostra 8  Amostra 9  Amostra 10  ...  Amostra 91  Amostra 92  \\\n",
       " 32      2.100      2.450      2.800       3.150  ...       3.500       3.850   \n",
       " 19      8.437      9.756     11.037      12.273  ...     -12.273     -11.037   \n",
       " 59     10.540     10.540     10.540     -10.540  ...      10.540      10.540   \n",
       " \n",
       "     Amostra 93  Amostra 94  Amostra 95  Amostra 96  Amostra 97  Amostra 98  \\\n",
       " 32       4.200       4.550       4.900       5.250       5.600       5.950   \n",
       " 19      -9.756      -8.437      -7.083      -5.701      -4.296      -2.874   \n",
       " 59      10.540      10.540      10.540      10.540      10.540      10.540   \n",
       " \n",
       "     Amostra 99  Amostra 100  \n",
       " 32        6.30         6.65  \n",
       " 19       -1.44         0.00  \n",
       " 59       10.54       -10.54  \n",
       " \n",
       " [3 rows x 100 columns],\n",
       "     Amostra 1  Amostra 2  Amostra 3  Amostra 4  Amostra 5  Amostra 6  \\\n",
       " 48        9.0      9.000      9.000       9.00      9.000      9.000   \n",
       " 14        0.0      3.214      6.107       8.39      9.835     10.299   \n",
       " 44        5.0      5.000      5.000       5.00      5.000      5.000   \n",
       " \n",
       "     Amostra 7  Amostra 8  Amostra 9  Amostra 10  ...  Amostra 91  Amostra 92  \\\n",
       " 48      9.000      9.000      9.000       9.000  ...      -9.000      -9.000   \n",
       " 14      9.734      8.196      5.841       2.902  ...      -2.902      -5.841   \n",
       " 44      5.000      5.000      5.000       5.000  ...      -5.000      -5.000   \n",
       " \n",
       "     Amostra 93  Amostra 94  Amostra 95  Amostra 96  Amostra 97  Amostra 98  \\\n",
       " 48      -9.000      -9.000      -9.000      -9.000       -9.00      -9.000   \n",
       " 14      -8.196      -9.734     -10.299      -9.835       -8.39      -6.107   \n",
       " 44      -5.000      -5.000      -5.000      -5.000       -5.00      -5.000   \n",
       " \n",
       "     Amostra 99  Amostra 100  \n",
       " 48      -9.000         -9.0  \n",
       " 14      -3.214         -0.0  \n",
       " 44      -5.000         -5.0  \n",
       " \n",
       " [3 rows x 100 columns],\n",
       "     Amostra 1  Amostra 2  Amostra 3  Amostra 4  Amostra 5  Amostra 6  \\\n",
       " 2        0.00      0.254      0.506      0.757      1.005      1.248   \n",
       " 57       8.33      8.330      8.330      8.330      8.330      8.330   \n",
       " 41       2.00      2.000      2.000      2.000      2.000      2.000   \n",
       " \n",
       "     Amostra 7  Amostra 8  Amostra 9  Amostra 10  ...  Amostra 91  Amostra 92  \\\n",
       " 2       1.487      1.719      1.945       2.163  ...      -2.163      -1.945   \n",
       " 57      8.330      8.330      8.330      -8.330  ...       8.330       8.330   \n",
       " 41      2.000      2.000      2.000       2.000  ...      -2.000      -2.000   \n",
       " \n",
       "     Amostra 93  Amostra 94  Amostra 95  Amostra 96  Amostra 97  Amostra 98  \\\n",
       " 2       -1.719      -1.487      -1.248      -1.005      -0.757      -0.506   \n",
       " 57       8.330      -8.330      -8.330      -8.330      -8.330      -8.330   \n",
       " 41      -2.000      -2.000      -2.000      -2.000      -2.000      -2.000   \n",
       " \n",
       "     Amostra 99  Amostra 100  \n",
       " 2       -0.254         0.00  \n",
       " 57      -8.330        -8.33  \n",
       " 41      -2.000        -2.00  \n",
       " \n",
       " [3 rows x 100 columns],\n",
       "     Amostra 1  Amostra 2  Amostra 3  Amostra 4  Amostra 5  Amostra 6  \\\n",
       " 33        0.0        4.4        8.8       13.2       17.6       22.0   \n",
       " 51        2.8        2.8        2.8        2.8        2.8        2.8   \n",
       " 42        3.0        3.0        3.0        3.0        3.0        3.0   \n",
       " \n",
       "     Amostra 7  Amostra 8  Amostra 9  Amostra 10  ...  Amostra 91  Amostra 92  \\\n",
       " 33       26.4       30.8       35.2        39.6  ...        44.0        48.4   \n",
       " 51        2.8        2.8        2.8         2.8  ...        -2.8        -2.8   \n",
       " 42        3.0        3.0        3.0         3.0  ...        -3.0        -3.0   \n",
       " \n",
       "     Amostra 93  Amostra 94  Amostra 95  Amostra 96  Amostra 97  Amostra 98  \\\n",
       " 33        52.8        57.2        61.6        66.0        70.4        74.8   \n",
       " 51        -2.8        -2.8        -2.8        -2.8        -2.8        -2.8   \n",
       " 42        -3.0        -3.0        -3.0        -3.0        -3.0        -3.0   \n",
       " \n",
       "     Amostra 99  Amostra 100  \n",
       " 33        79.2         83.6  \n",
       " 51        -2.8         -2.8  \n",
       " 42        -3.0         -3.0  \n",
       " \n",
       " [3 rows x 100 columns],\n",
       "     Amostra 1  Amostra 2  Amostra 3  Amostra 4  Amostra 5  Amostra 6  \\\n",
       " 31        0.0      0.233      0.466      0.699      0.932      1.165   \n",
       " 56        7.2      7.200      7.200      7.200      7.200      7.200   \n",
       " 30       -1.0     -0.730     -0.460     -0.190      0.080      0.350   \n",
       " \n",
       "     Amostra 7  Amostra 8  Amostra 9  Amostra 10  ...  Amostra 91  Amostra 92  \\\n",
       " 31      1.398      1.631      1.864       2.097  ...        2.33       2.563   \n",
       " 56      7.200      7.200      7.200       7.200  ...        7.20       7.200   \n",
       " 30      0.620      0.890     -0.840      -0.570  ...       -0.70      -0.430   \n",
       " \n",
       "     Amostra 93  Amostra 94  Amostra 95  Amostra 96  Amostra 97  Amostra 98  \\\n",
       " 31       2.796       3.029       3.262       3.495       3.728       3.961   \n",
       " 56       7.200       7.200       7.200       7.200       7.200       7.200   \n",
       " 30      -0.160       0.110       0.380       0.650       0.920      -0.810   \n",
       " \n",
       "     Amostra 99  Amostra 100  \n",
       " 31       4.194        4.427  \n",
       " 56       7.200        7.200  \n",
       " 30      -0.540       -0.270  \n",
       " \n",
       " [3 rows x 100 columns],\n",
       "     Amostra 1  Amostra 2  Amostra 3  Amostra 4  Amostra 5  Amostra 6  \\\n",
       " 13        0.0      4.817      7.759      7.678      4.607     -0.258   \n",
       " 17        0.0     15.584     16.433      1.743    -14.594    -17.132   \n",
       " 37        0.0      1.800      3.600      5.400      7.200      9.000   \n",
       " \n",
       "     Amostra 7  Amostra 8  Amostra 9  Amostra 10  ...  Amostra 91  Amostra 92  \\\n",
       " 13     -5.023     -7.831     -7.590      -4.393  ...       4.393       7.590   \n",
       " 17     -3.471     13.472     17.677       5.167  ...      -5.167     -17.677   \n",
       " 37     10.800     12.600     14.400      16.200  ...      18.000      19.800   \n",
       " \n",
       "     Amostra 93  Amostra 94  Amostra 95  Amostra 96  Amostra 97  Amostra 98  \\\n",
       " 13       7.831       5.023       0.258      -4.607      -7.678      -7.759   \n",
       " 17     -13.472       3.471      17.132      14.594      -1.743     -16.433   \n",
       " 37      21.600      23.400      25.200      27.000      28.800      30.600   \n",
       " \n",
       "     Amostra 99  Amostra 100  \n",
       " 13      -4.817         -0.0  \n",
       " 17     -15.584          0.0  \n",
       " 37      32.400         34.2  \n",
       " \n",
       " [3 rows x 100 columns],\n",
       "     Amostra 1  Amostra 2  Amostra 3  Amostra 4  Amostra 5  Amostra 6  \\\n",
       " 6         0.0      0.888      1.772      2.650      3.516      4.368   \n",
       " 16        0.0      5.527     10.261     13.526     14.853     14.052   \n",
       " 0         0.0      0.063      0.127      0.189      0.251      0.312   \n",
       " \n",
       "     Amostra 7  Amostra 8  Amostra 9  Amostra 10  ...  Amostra 91  Amostra 92  \\\n",
       " 6       5.203      6.017      6.807       7.569  ...      -7.569      -6.807   \n",
       " 16     11.238      6.814      1.413      -4.189  ...       4.189      -1.413   \n",
       " 0       0.372      0.430      0.486       0.541  ...      -0.541      -0.486   \n",
       " \n",
       "     Amostra 93  Amostra 94  Amostra 95  Amostra 96  Amostra 97  Amostra 98  \\\n",
       " 6       -6.017      -5.203      -4.368      -3.516      -2.650      -1.772   \n",
       " 16      -6.814     -11.238     -14.052     -14.853     -13.526     -10.261   \n",
       " 0       -0.430      -0.372      -0.312      -0.251      -0.189      -0.127   \n",
       " \n",
       "     Amostra 99  Amostra 100  \n",
       " 6       -0.888          0.0  \n",
       " 16      -5.527         -0.0  \n",
       " 0       -0.063          0.0  \n",
       " \n",
       " [3 rows x 100 columns],\n",
       "     Amostra 1  Amostra 2  Amostra 3  Amostra 4  Amostra 5  Amostra 6  \\\n",
       " 49       10.0       10.0       10.0       10.0       10.0       10.0   \n",
       " 20       -1.0       -0.9       -0.8       -0.7       -0.6       -0.5   \n",
       " 47        8.0        8.0        8.0        8.0        8.0        8.0   \n",
       " \n",
       "     Amostra 7  Amostra 8  Amostra 9  Amostra 10  ...  Amostra 91  Amostra 92  \\\n",
       " 49       10.0       10.0       10.0        10.0  ...       -10.0       -10.0   \n",
       " 20       -0.4       -0.3       -0.2        -0.1  ...         0.0         0.1   \n",
       " 47        8.0        8.0        8.0         8.0  ...        -8.0        -8.0   \n",
       " \n",
       "     Amostra 93  Amostra 94  Amostra 95  Amostra 96  Amostra 97  Amostra 98  \\\n",
       " 49       -10.0       -10.0       -10.0       -10.0       -10.0       -10.0   \n",
       " 20         0.2         0.3         0.4         0.5         0.6         0.7   \n",
       " 47        -8.0        -8.0        -8.0        -8.0        -8.0        -8.0   \n",
       " \n",
       "     Amostra 99  Amostra 100  \n",
       " 49       -10.0        -10.0  \n",
       " 20         0.8          0.9  \n",
       " 47        -8.0         -8.0  \n",
       " \n",
       " [3 rows x 100 columns],\n",
       "     Amostra 1  Amostra 2  Amostra 3  Amostra 4  Amostra 5  Amostra 6  \\\n",
       " 55        6.5      6.500      6.500        6.5      6.500       6.50   \n",
       " 10        0.0      0.101      0.201        0.3      0.396       0.49   \n",
       " 34        3.0      3.500      4.000        4.5      5.000       5.50   \n",
       " \n",
       "     Amostra 7  Amostra 8  Amostra 9  Amostra 10  ...  Amostra 91  Amostra 92  \\\n",
       " 55       6.50      6.500      6.500       6.500  ...      -6.500      -6.500   \n",
       " 10       0.58      0.666      0.748       0.824  ...       1.151       1.176   \n",
       " 34       6.00      6.500      7.000       7.500  ...       8.000       8.500   \n",
       " \n",
       "     Amostra 93  Amostra 94  Amostra 95  Amostra 96  Amostra 97  Amostra 98  \\\n",
       " 55      -6.500      -6.500      -6.500      -6.500      -6.500      -6.500   \n",
       " 10       1.192       1.199       1.198       1.189       1.171       1.145   \n",
       " 34       9.000       9.500      10.000      10.500      11.000      11.500   \n",
       " \n",
       "     Amostra 99  Amostra 100  \n",
       " 55      -6.500       -6.500  \n",
       " 10       1.111        1.069  \n",
       " 34      12.000       12.500  \n",
       " \n",
       " [3 rows x 100 columns],\n",
       "     Amostra 1  Amostra 2  Amostra 3  Amostra 4  Amostra 5  Amostra 6  \\\n",
       " 36        0.0        1.7        3.4        5.1        6.8        8.5   \n",
       " 27        0.0        0.8        1.6        2.4        3.2        4.0   \n",
       " 52        3.5        3.5        3.5        3.5        3.5        3.5   \n",
       " \n",
       "     Amostra 7  Amostra 8  Amostra 9  Amostra 10  ...  Amostra 91  Amostra 92  \\\n",
       " 36       10.2       11.9       13.6        15.3  ...        17.0        18.7   \n",
       " 27        4.8        5.6        6.4         7.2  ...         8.0         8.8   \n",
       " 52        3.5        3.5        3.5         3.5  ...        -3.5        -3.5   \n",
       " \n",
       "     Amostra 93  Amostra 94  Amostra 95  Amostra 96  Amostra 97  Amostra 98  \\\n",
       " 36        20.4        22.1        23.8        25.5        27.2        28.9   \n",
       " 27         9.6        10.4        11.2        12.0        12.8        13.6   \n",
       " 52        -3.5        -3.5        -3.5        -3.5        -3.5        -3.5   \n",
       " \n",
       "     Amostra 99  Amostra 100  \n",
       " 36        30.6         32.3  \n",
       " 27        14.4         15.2  \n",
       " 52        -3.5         -3.5  \n",
       " \n",
       " [3 rows x 100 columns],\n",
       "     Amostra 1  Amostra 2  Amostra 3  Amostra 4  Amostra 5  Amostra 6  \\\n",
       " 43        4.0      4.000      4.000      4.000      4.000      4.000   \n",
       " 23        0.0      0.400      0.800      1.200      1.600      2.000   \n",
       " 3         0.0      0.507      1.013      1.514      2.009      2.496   \n",
       " \n",
       "     Amostra 7  Amostra 8  Amostra 9  Amostra 10  ...  Amostra 91  Amostra 92  \\\n",
       " 43      4.000      4.000       4.00       4.000  ...      -4.000       -4.00   \n",
       " 23      2.400      2.800       3.20       3.600  ...       4.000        4.40   \n",
       " 3       2.973      3.438       3.89       4.325  ...      -4.325       -3.89   \n",
       " \n",
       "     Amostra 93  Amostra 94  Amostra 95  Amostra 96  Amostra 97  Amostra 98  \\\n",
       " 43      -4.000      -4.000      -4.000      -4.000      -4.000      -4.000   \n",
       " 23       4.800       5.200       5.600       6.000       6.400       6.800   \n",
       " 3       -3.438      -2.973      -2.496      -2.009      -1.514      -1.013   \n",
       " \n",
       "     Amostra 99  Amostra 100  \n",
       " 43      -4.000         -4.0  \n",
       " 23       7.200          7.6  \n",
       " 3       -0.507          0.0  \n",
       " \n",
       " [3 rows x 100 columns],\n",
       "     Amostra 1  Amostra 2  Amostra 3  Amostra 4  Amostra 5  Amostra 6  \\\n",
       " 5         0.0      0.761      1.519      2.271      3.014      3.744   \n",
       " 28        0.0      0.900      1.800      2.700      3.600      4.500   \n",
       " 9         0.0      1.395      2.785      4.164      5.525      6.865   \n",
       " \n",
       "     Amostra 7  Amostra 8  Amostra 9  Amostra 10  ...  Amostra 91  Amostra 92  \\\n",
       " 5       4.460      5.158      5.834       6.488  ...      -6.488      -5.834   \n",
       " 28      5.400      6.300      7.200       8.100  ...       9.000       9.900   \n",
       " 9       8.177      9.455     10.696      11.894  ...     -11.894     -10.696   \n",
       " \n",
       "     Amostra 93  Amostra 94  Amostra 95  Amostra 96  Amostra 97  Amostra 98  \\\n",
       " 5       -5.158      -4.460      -3.744      -3.014      -2.271      -1.519   \n",
       " 28      10.800      11.700      12.600      13.500      14.400      15.300   \n",
       " 9       -9.455      -8.177      -6.865      -5.525      -4.164      -2.785   \n",
       " \n",
       "     Amostra 99  Amostra 100  \n",
       " 5       -0.761          0.0  \n",
       " 28      16.200         17.1  \n",
       " 9       -1.395          0.0  \n",
       " \n",
       " [3 rows x 100 columns],\n",
       "     Amostra 1  Amostra 2  Amostra 3  Amostra 4  Amostra 5  Amostra 6  \\\n",
       " 26        0.0      0.700      1.400      2.100      2.800      3.500   \n",
       " 45        6.0      6.000      6.000      6.000      6.000      6.000   \n",
       " 12        0.0      0.308      0.614      0.917      1.215      1.506   \n",
       " \n",
       "     Amostra 7  Amostra 8  Amostra 9  Amostra 10  ...  Amostra 91  Amostra 92  \\\n",
       " 26       4.20      4.900      5.600       6.300  ...       7.000       7.700   \n",
       " 45       6.00      6.000      6.000       6.000  ...      -6.000      -6.000   \n",
       " 12       1.79      2.063      2.326       2.577  ...       1.189       1.481   \n",
       " \n",
       "     Amostra 93  Amostra 94  Amostra 95  Amostra 96  Amostra 97  Amostra 98  \\\n",
       " 26       8.400        9.10       9.800      10.500      11.200      11.900   \n",
       " 45      -6.000       -6.00      -6.000      -6.000      -6.000      -6.000   \n",
       " 12       1.765        2.04       2.304       2.556       2.794       3.017   \n",
       " \n",
       "     Amostra 99  Amostra 100  \n",
       " 26      12.600       13.300  \n",
       " 45      -6.000       -6.000  \n",
       " 12       3.224        3.414  \n",
       " \n",
       " [3 rows x 100 columns]]"
      ]
     },
     "execution_count": 20,
     "metadata": {},
     "output_type": "execute_result"
    }
   ],
   "source": [
    "x_batches = np.array_split(x_treinamento, batch_total)\n",
    "x_batches"
   ]
  },
  {
   "cell_type": "code",
   "execution_count": 21,
   "metadata": {},
   "outputs": [
    {
     "name": "stdout",
     "output_type": "stream",
     "text": [
      "Época: 1 erro: 394.83008084978377\n",
      "Época: 501 erro: 0.0016786412534283304\n",
      "Época: 1001 erro: 3.087808456062443e-05\n",
      "Época: 1501 erro: 9.934026964840217e-07\n",
      "Época: 2001 erro: 2.8383157411683765e-08\n",
      "Época: 2501 erro: 0.0\n"
     ]
    }
   ],
   "source": [
    "with tf.Session() as sess:\n",
    "    sess.run(tf.global_variables_initializer())\n",
    "    for epoca in range(3000):\n",
    "        erro_medio = 0.0\n",
    "        batch_total = batch_total = int(len(x_treinamento) / batch_size)\n",
    "        x_batches = np.array_split(x_treinamento, batch_total)\n",
    "        y_batches = np.array_split(y_treinamento, batch_total)\n",
    "        for i in range(batch_total):\n",
    "            x_batch, y_batch = x_batches[i], y_batches[i]\n",
    "            _, custo = sess.run([otimizador, erro], feed_dict = {xph: x_batch, yph: y_batch})\n",
    "            erro_medio += custo / batch_total\n",
    "        if epoca % 500 == 0:\n",
    "            print('Época: ' + str(epoca+1) + ' erro: '+ str(erro_medio))\n",
    "    w_final, b_final = sess.run([w,b])"
   ]
  },
  {
   "cell_type": "code",
   "execution_count": 22,
   "metadata": {
    "scrolled": true
   },
   "outputs": [
    {
     "data": {
      "text/plain": [
       "({'oculta': array([[-1.2802664 ,  0.50238377,  2.4248471 , ..., -1.4338949 ,\n",
       "           0.2463056 , -1.0139587 ],\n",
       "         [-0.51442856,  1.5739462 , -1.26077   , ..., -0.36046603,\n",
       "           2.4285502 , -0.8820599 ],\n",
       "         [ 1.9196562 ,  0.36810967,  0.6974006 , ...,  0.00278823,\n",
       "           0.7436609 , -0.1149111 ],\n",
       "         ...,\n",
       "         [ 0.1682899 , -0.06857565, -0.2857327 , ...,  1.5258257 ,\n",
       "           0.10777906,  0.48861855],\n",
       "         [ 0.4876504 , -0.6575715 ,  0.6952653 , ..., -0.6361184 ,\n",
       "          -0.891131  , -0.96388555],\n",
       "         [-1.8490568 ,  1.1868885 , -1.0213187 , ..., -0.6484781 ,\n",
       "           0.6772332 ,  0.4785321 ]], dtype=float32),\n",
       "  'saida': array([[ 0.40528587, -0.15202172,  2.4315696 ],\n",
       "         [-1.4258537 ,  1.6255488 ,  0.74761796],\n",
       "         [ 0.6735835 , -0.00465259, -0.04683248],\n",
       "         [-1.24236   ,  1.8063138 , -0.8679685 ],\n",
       "         [ 1.55281   , -0.6280256 ,  0.7140592 ],\n",
       "         [-1.0636219 ,  1.3356838 , -1.3333964 ],\n",
       "         [-0.8880543 ,  0.24774814,  0.46158496],\n",
       "         [ 0.25209147,  1.8912944 ,  1.8605573 ],\n",
       "         [ 0.36791885, -1.5962018 , -1.407347  ],\n",
       "         [-0.5443192 , -2.6696923 , -1.5687032 ],\n",
       "         [ 0.6786844 ,  2.0284715 , -1.032634  ],\n",
       "         [ 1.4531759 ,  0.47265065, -1.5866085 ],\n",
       "         [-0.50490284, -0.5242974 , -1.3432609 ],\n",
       "         [-0.2158766 , -0.5403806 , -0.3535825 ],\n",
       "         [-1.8251532 , -0.2805722 ,  0.7913358 ],\n",
       "         [-1.7659284 , -1.2430902 , -0.8153545 ],\n",
       "         [-0.93940914, -0.28384706, -1.5476793 ],\n",
       "         [-0.16928189, -1.1441935 ,  1.1889662 ],\n",
       "         [ 0.24257608, -0.03995904,  1.4800189 ],\n",
       "         [ 0.9218687 , -0.7565614 ,  0.3853952 ],\n",
       "         [-0.29403555, -0.55997175, -0.2054196 ],\n",
       "         [ 0.9543264 , -0.24017437,  0.13139032],\n",
       "         [ 0.19723049, -0.39062157,  1.0422239 ],\n",
       "         [-0.74886847, -0.07083131,  1.0338634 ],\n",
       "         [ 1.6618271 ,  1.272658  ,  0.64689964],\n",
       "         [ 2.7739928 ,  0.97692746, -1.1203891 ],\n",
       "         [ 0.81903696, -1.7696545 , -0.91381687],\n",
       "         [ 0.88118905,  0.9236433 ,  0.28036696],\n",
       "         [-0.18891257, -0.7154093 , -2.7623916 ],\n",
       "         [ 0.91930854,  0.39251924,  2.2925541 ],\n",
       "         [-0.6319425 ,  1.396886  ,  0.38418525],\n",
       "         [ 0.2880865 , -0.06108004, -1.332598  ],\n",
       "         [-0.32436156,  0.7605708 , -0.23180579],\n",
       "         [-0.46305102, -0.03465011, -1.2681675 ],\n",
       "         [-0.07673283, -0.8308446 , -0.36593318],\n",
       "         [ 2.027443  , -1.5079597 ,  0.41113964],\n",
       "         [-0.5472056 ,  0.82506144, -1.1446525 ],\n",
       "         [ 1.4993953 ,  0.2642069 , -0.63961595],\n",
       "         [ 1.0520658 , -0.7333815 ,  0.08242062],\n",
       "         [ 1.820027  , -1.3355826 , -0.6793229 ],\n",
       "         [-2.0183618 ,  1.1877884 , -1.56622   ],\n",
       "         [ 0.08193363, -0.32059187,  1.1803459 ],\n",
       "         [ 0.29428884, -0.6807985 , -0.32573974],\n",
       "         [ 1.0453873 , -0.83055604, -1.4774919 ],\n",
       "         [-0.173266  ,  0.11826799,  1.5199732 ],\n",
       "         [-0.10259794, -0.11415903,  0.56115353],\n",
       "         [ 0.24347155, -0.6851717 ,  0.25663063],\n",
       "         [-0.26796934,  1.1190978 ,  0.3426709 ],\n",
       "         [-1.2069933 ,  0.34194997,  0.29497677],\n",
       "         [ 0.94171727,  0.02701806, -0.19235156],\n",
       "         [-0.7876833 ,  0.45024985, -0.3045458 ]], dtype=float32)},\n",
       " {'oculta': array([-2.6776814 ,  1.1461208 , -0.15361306, -1.9867    ,  0.24551061,\n",
       "         -1.4802189 ,  0.09646405, -0.9921961 ,  1.1299908 , -0.5845763 ,\n",
       "         -0.12347384, -2.523884  ,  0.6675728 , -0.5018249 , -0.01508597,\n",
       "          1.7055935 , -0.35020593,  0.25408068,  0.37112752,  1.1660261 ,\n",
       "          2.0103242 , -0.6494947 , -2.051715  , -1.2477452 , -0.9503166 ,\n",
       "         -1.2173464 , -0.5164551 , -0.12811287, -1.1587409 , -0.14892417,\n",
       "          0.3189519 ,  0.7403055 , -0.6121564 , -0.25755942, -1.8540803 ,\n",
       "          1.8512775 , -0.19605239,  1.074817  ,  0.50887424, -0.21712692,\n",
       "         -0.33433908,  1.555511  ,  1.8447852 ,  0.57986385,  0.30252042,\n",
       "         -0.73230827,  0.99609506, -0.7072065 , -0.09489706,  0.12490977,\n",
       "         -0.8662974 ], dtype=float32),\n",
       "  'saida': array([ 0.86718327,  0.4956855 , -0.8651624 ], dtype=float32)})"
      ]
     },
     "execution_count": 22,
     "metadata": {},
     "output_type": "execute_result"
    }
   ],
   "source": [
    "w_final, b_final"
   ]
  },
  {
   "cell_type": "code",
   "execution_count": 23,
   "metadata": {},
   "outputs": [],
   "source": [
    "previsoes_teste = mlp(xph, w_final, b_final)\n",
    "\n",
    "with tf.Session() as sess:\n",
    "    sess.run(tf.global_variables_initializer())\n",
    "    r1 = sess.run(previsoes_teste, feed_dict = {xph: x_teste})\n",
    "    r2 = sess.run(tf.nn.softmax(r1))\n",
    "    r3 = sess.run(tf.argmax(r2, 1))"
   ]
  },
  {
   "cell_type": "code",
   "execution_count": 24,
   "metadata": {},
   "outputs": [
    {
     "data": {
      "text/plain": [
       "array([[ 5.4801659e+01,  2.7373875e+01, -1.5589934e+02],\n",
       "       [-4.0107491e+01, -3.3277707e+02, -4.2867239e+02],\n",
       "       [-7.6004930e+00, -3.8453011e+01, -4.8306992e+01],\n",
       "       [ 3.1660126e+02,  1.0909598e+03, -6.5074945e+02],\n",
       "       [ 5.8237341e+02, -1.5478134e-02,  2.8769183e+02],\n",
       "       [-2.7451862e+02, -2.3537643e+02, -2.0214925e+02],\n",
       "       [ 6.6949783e+01, -7.2590775e+01, -4.8036102e+01],\n",
       "       [ 1.5397897e+02,  5.2066241e+02, -3.0799323e+02],\n",
       "       [-4.4441925e+01, -3.7213889e+02, -4.7953320e+02],\n",
       "       [-4.4110188e+01, -3.6956790e+02, -4.7618808e+02],\n",
       "       [ 5.0702637e+02, -1.1684425e+02, -2.7909537e+02],\n",
       "       [ 3.0181754e+02,  1.0391144e+03, -6.1958984e+02],\n",
       "       [ 9.4843552e+01,  3.1328180e+02, -1.8335457e+02],\n",
       "       [-2.3810720e+01, -1.8558858e+02, -2.3860033e+02],\n",
       "       [ 2.6894461e+02,  2.0580003e+02, -9.9722577e+02],\n",
       "       [ 1.8354662e+02,  6.2435297e+02, -3.7031244e+02],\n",
       "       [ 1.8817052e+02,  6.4051764e+02, -3.8004724e+02],\n",
       "       [ 6.5363838e+01,  2.0940131e+02, -1.2113343e+02]], dtype=float32)"
      ]
     },
     "execution_count": 24,
     "metadata": {},
     "output_type": "execute_result"
    }
   ],
   "source": [
    "r1"
   ]
  },
  {
   "cell_type": "code",
   "execution_count": 25,
   "metadata": {
    "scrolled": true
   },
   "outputs": [
    {
     "data": {
      "text/plain": [
       "array([[1.0000000e+00, 1.2253630e-12, 0.0000000e+00],\n",
       "       [1.0000000e+00, 0.0000000e+00, 0.0000000e+00],\n",
       "       [1.0000000e+00, 3.9895292e-14, 2.0960078e-18],\n",
       "       [0.0000000e+00, 1.0000000e+00, 0.0000000e+00],\n",
       "       [1.0000000e+00, 0.0000000e+00, 0.0000000e+00],\n",
       "       [3.7186229e-32, 3.7120647e-15, 1.0000000e+00],\n",
       "       [1.0000000e+00, 0.0000000e+00, 0.0000000e+00],\n",
       "       [0.0000000e+00, 1.0000000e+00, 0.0000000e+00],\n",
       "       [1.0000000e+00, 0.0000000e+00, 0.0000000e+00],\n",
       "       [1.0000000e+00, 0.0000000e+00, 0.0000000e+00],\n",
       "       [1.0000000e+00, 0.0000000e+00, 0.0000000e+00],\n",
       "       [0.0000000e+00, 1.0000000e+00, 0.0000000e+00],\n",
       "       [0.0000000e+00, 1.0000000e+00, 0.0000000e+00],\n",
       "       [1.0000000e+00, 0.0000000e+00, 0.0000000e+00],\n",
       "       [1.0000000e+00, 3.7727552e-28, 0.0000000e+00],\n",
       "       [0.0000000e+00, 1.0000000e+00, 0.0000000e+00],\n",
       "       [0.0000000e+00, 1.0000000e+00, 0.0000000e+00],\n",
       "       [0.0000000e+00, 1.0000000e+00, 0.0000000e+00]], dtype=float32)"
      ]
     },
     "execution_count": 25,
     "metadata": {},
     "output_type": "execute_result"
    }
   ],
   "source": [
    "r2"
   ]
  },
  {
   "cell_type": "code",
   "execution_count": 26,
   "metadata": {},
   "outputs": [
    {
     "data": {
      "text/plain": [
       "array([0, 0, 0, 1, 0, 2, 0, 1, 0, 0, 0, 1, 1, 0, 0, 1, 1, 1], dtype=int64)"
      ]
     },
     "execution_count": 26,
     "metadata": {},
     "output_type": "execute_result"
    }
   ],
   "source": [
    "r3"
   ]
  },
  {
   "cell_type": "code",
   "execution_count": 27,
   "metadata": {},
   "outputs": [
    {
     "data": {
      "text/plain": [
       "array([[1., 0., 0.],\n",
       "       [1., 0., 0.],\n",
       "       [1., 0., 0.],\n",
       "       [0., 1., 0.],\n",
       "       [0., 0., 1.],\n",
       "       [0., 0., 1.],\n",
       "       [0., 0., 1.],\n",
       "       [0., 1., 0.],\n",
       "       [1., 0., 0.],\n",
       "       [1., 0., 0.],\n",
       "       [0., 0., 1.],\n",
       "       [0., 1., 0.],\n",
       "       [0., 1., 0.],\n",
       "       [1., 0., 0.],\n",
       "       [1., 0., 0.],\n",
       "       [0., 1., 0.],\n",
       "       [0., 1., 0.],\n",
       "       [0., 1., 0.]])"
      ]
     },
     "execution_count": 27,
     "metadata": {},
     "output_type": "execute_result"
    }
   ],
   "source": [
    "y_teste"
   ]
  },
  {
   "cell_type": "code",
   "execution_count": 28,
   "metadata": {},
   "outputs": [
    {
     "data": {
      "text/plain": [
       "array([0, 0, 0, 1, 2, 2, 2, 1, 0, 0, 2, 1, 1, 0, 0, 1, 1, 1], dtype=int64)"
      ]
     },
     "execution_count": 28,
     "metadata": {},
     "output_type": "execute_result"
    }
   ],
   "source": [
    "y_teste2 = np.argmax(y_teste, 1)\n",
    "y_teste2"
   ]
  },
  {
   "cell_type": "code",
   "execution_count": 29,
   "metadata": {},
   "outputs": [
    {
     "data": {
      "text/plain": [
       "0.8333333333333334"
      ]
     },
     "execution_count": 29,
     "metadata": {},
     "output_type": "execute_result"
    }
   ],
   "source": [
    "from sklearn.metrics import accuracy_score\n",
    "taxa_acerto = accuracy_score(y_teste2, r3)\n",
    "taxa_acerto"
   ]
  }
 ],
 "metadata": {
  "kernelspec": {
   "display_name": "Python 3",
   "language": "python",
   "name": "python3"
  },
  "language_info": {
   "codemirror_mode": {
    "name": "ipython",
    "version": 3
   },
   "file_extension": ".py",
   "mimetype": "text/x-python",
   "name": "python",
   "nbconvert_exporter": "python",
   "pygments_lexer": "ipython3",
   "version": "3.7.6"
  }
 },
 "nbformat": 4,
 "nbformat_minor": 4
}
