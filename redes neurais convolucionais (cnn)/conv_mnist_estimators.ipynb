{
 "cells": [
  {
   "cell_type": "code",
   "execution_count": 78,
   "metadata": {},
   "outputs": [
    {
     "name": "stdout",
     "output_type": "stream",
     "text": [
      "Extracting mnist/train-images-idx3-ubyte.gz\n",
      "Extracting mnist/train-labels-idx1-ubyte.gz\n",
      "Extracting mnist/t10k-images-idx3-ubyte.gz\n",
      "Extracting mnist/t10k-labels-idx1-ubyte.gz\n"
     ]
    }
   ],
   "source": [
    "import numpy as np\n",
    "from tensorflow.examples.tutorials.mnist import input_data\n",
    "mnist = input_data.read_data_sets('mnist/', one_hot=False)"
   ]
  },
  {
   "cell_type": "code",
   "execution_count": 79,
   "metadata": {},
   "outputs": [],
   "source": [
    "x_treinamento = mnist.train.images\n",
    "y_treinamento = mnist.train.labels\n",
    "x_teste = mnist.test.images\n",
    "y_teste = mnist.test.labels"
   ]
  },
  {
   "cell_type": "code",
   "execution_count": 80,
   "metadata": {},
   "outputs": [],
   "source": [
    "y_treinamento = np.asarray(y_treinamento, dtype = np.int32)\n",
    "y_teste = np.asarray(y_teste, dtype = np.int32)"
   ]
  },
  {
   "cell_type": "code",
   "execution_count": 81,
   "metadata": {},
   "outputs": [],
   "source": [
    "import matplotlib.pyplot as plt\n",
    "import tensorflow as tf"
   ]
  },
  {
   "cell_type": "code",
   "execution_count": 82,
   "metadata": {},
   "outputs": [],
   "source": [
    "# realliza as 4 etapas\n",
    "def cria_rede(features, labels, mode):\n",
    "    entrada = tf.reshape(features['x'], [-1, 28, 28, 1]) # batch_size, largura, altura, canais\n",
    "    \n",
    "    # Recebe uma imagem com parametros [batch_size, 28, 28, 1]\n",
    "    # Retorna [batch_size, 28x28 , 32] # 32 filtros aplicados\n",
    "    convolucao1 = tf.layers.conv2d(inputs = entrada, filters = 32, kernel_size = [5,5],\n",
    "                                  activation = tf.nn.relu, padding = 'same')\n",
    "    # Retorna [batch_size, 14x14, 32]\n",
    "    pooling1 = tf.layers.max_pooling2d(inputs = convolucao1, pool_size = [2,2], strides = 2)\n",
    "    \n",
    "    # Retorna [batch_size, 14x14, 64]\n",
    "    convolucao2 = tf.layers.conv2d(inputs = pooling1, filters = 64, kernel_size = [5,5],\n",
    "                                  activation = tf.nn.relu, padding = 'same')\n",
    "    \n",
    "    # Retorna [batch_size, 7x7, 64]\n",
    "    pooling2 = tf.layers.max_pooling2d(inputs = convolucao2, pool_size = [2,2], strides = 2)\n",
    "    \n",
    "    # Retorna [batch_size, 3136]\n",
    "    flattening = tf.reshape(pooling2, [-1, 7 * 7 * 64])\n",
    "    \n",
    "    # 3136 (Entradas) -> 1024 (camada oculta) -> 10 (saidas)\n",
    "    densa = tf.layers.dense(inputs = flattening, units = 1024, activation = tf.nn.relu)\n",
    "    \n",
    "    # dropout ->zera alguns valores de entrada para melhorar o desempenho e não deixar tao complexo (1024 x 3136 = pesos)\n",
    "    # o parametro training = mode serve para dar o dropout somente quando for treinamento\n",
    "    dropout = tf.layers.dropout(inputs = densa, rate = 0.2, training = mode == tf.estimator.ModeKeys.TRAIN)\n",
    "    \n",
    "    saida = tf.layers.dense(inputs = dropout, units = 10)\n",
    "    \n",
    "    # 0.2 0.2 0.6 = 2\n",
    "    previsoes = tf.argmax(saida, axis = 1)\n",
    "    \n",
    "    if mode == tf.estimator.ModeKeys.PREDICT:\n",
    "        return tf.estimator.EstimatorSpec(mode = mode, predictions = previsoes)\n",
    "    \n",
    "    erro = tf.losses.sparse_softmax_cross_entropy(labels = labels, logits = saida)\n",
    "    \n",
    "    # quando nao for treinamento, nao precisa treinar e otimizar\n",
    "    if mode == tf.estimator.ModeKeys.TRAIN:\n",
    "        otimizador = tf.train.AdamOptimizer(learning_rate = 0.001)\n",
    "        treinamento = otimizador.minimize(erro, global_step = tf.train.get_global_step())\n",
    "        return tf.estimator.EstimatorSpec(mode = mode, loss = erro, train_op = treinamento)\n",
    "    \n",
    "    if mode == tf.estimator.ModeKeys.EVAL:\n",
    "        eval_metric_ops = {'accuracy': tf.metrics.accuracy(labels = labels, predictions = previsoes)}\n",
    "        return tf.estimator.EstimatorSpec(mode = mode, loss = erro, eval_metric_ops = eval_metric_ops)\n",
    "    \n",
    "    "
   ]
  },
  {
   "cell_type": "code",
   "execution_count": null,
   "metadata": {},
   "outputs": [],
   "source": [
    "classificador = tf.estimator.Estimator(model_fn = cria_rede)"
   ]
  },
  {
   "cell_type": "code",
   "execution_count": null,
   "metadata": {
    "scrolled": true
   },
   "outputs": [],
   "source": [
    "funcao_treinamento = tf.estimator.inputs.numpy_input_fn(x = {'x': x_treinamento}, y = y_treinamento,\n",
    "                                                       batch_size = 128, num_epochs = None, shuffle = True)\n",
    "classificador.train(input_fn = funcao_treinamento, steps = 200)"
   ]
  },
  {
   "cell_type": "code",
   "execution_count": null,
   "metadata": {},
   "outputs": [],
   "source": [
    "funcao_teste = tf.estimator.inputs.numpy_input_fn(x = {'x': x_teste}, y = y_teste, num_epochs = 1, shuffle = False)\n",
    "\n",
    "resultados = classificador.evaluate(input_fn = funcao_teste)"
   ]
  },
  {
   "cell_type": "code",
   "execution_count": 86,
   "metadata": {},
   "outputs": [
    {
     "data": {
      "text/plain": [
       "{'accuracy': 0.9745, 'loss': 0.079030864, 'global_step': 200}"
      ]
     },
     "execution_count": 86,
     "metadata": {},
     "output_type": "execute_result"
    }
   ],
   "source": [
    "resultados"
   ]
  },
  {
   "cell_type": "code",
   "execution_count": 87,
   "metadata": {},
   "outputs": [
    {
     "data": {
      "text/plain": [
       "(784,)"
      ]
     },
     "execution_count": 87,
     "metadata": {},
     "output_type": "execute_result"
    }
   ],
   "source": [
    "x_imagem_teste = x_teste[0]\n",
    "x_imagem_teste.shape"
   ]
  },
  {
   "cell_type": "code",
   "execution_count": 88,
   "metadata": {},
   "outputs": [
    {
     "data": {
      "text/plain": [
       "(1, 784)"
      ]
     },
     "execution_count": 88,
     "metadata": {},
     "output_type": "execute_result"
    }
   ],
   "source": [
    "x_imagem_teste = x_imagem_teste.reshape(1,-1)\n",
    "x_imagem_teste.shape"
   ]
  },
  {
   "cell_type": "code",
   "execution_count": null,
   "metadata": {},
   "outputs": [],
   "source": [
    "funcao_previsao = tf.estimator.inputs.numpy_input_fn(x = {'x': x_imagem_teste}, shuffle = False)\n",
    "\n",
    "pred = list(classificador.predict(input_fn = funcao_previsao))"
   ]
  },
  {
   "cell_type": "code",
   "execution_count": 91,
   "metadata": {},
   "outputs": [
    {
     "data": {
      "text/plain": [
       "[7]"
      ]
     },
     "execution_count": 91,
     "metadata": {},
     "output_type": "execute_result"
    }
   ],
   "source": [
    "pred"
   ]
  },
  {
   "cell_type": "code",
   "execution_count": 93,
   "metadata": {},
   "outputs": [
    {
     "data": {
      "text/plain": [
       "<matplotlib.image.AxesImage at 0x20b1f0fb608>"
      ]
     },
     "execution_count": 93,
     "metadata": {},
     "output_type": "execute_result"
    },
    {
     "data": {
      "image/png": "[encoded data removed]",
      "text/plain": [
       "<Figure size 432x288 with 1 Axes>"
      ]
     },
     "metadata": {
      "needs_background": "light"
     },
     "output_type": "display_data"
    }
   ],
   "source": [
    "plt.imshow(x_imagem_teste.reshape((28,28)), cmap ='gray')"
   ]
  }
 ],
 "metadata": {
  "kernelspec": {
   "display_name": "Python 3",
   "language": "python",
   "name": "python3"
  },
  "language_info": {
   "codemirror_mode": {
    "name": "ipython",
    "version": 3
   },
   "file_extension": ".py",
   "mimetype": "text/x-python",
   "name": "python",
   "nbconvert_exporter": "python",
   "pygments_lexer": "ipython3",
   "version": "3.7.6"
  }
 },
 "nbformat": 4,
 "nbformat_minor": 4
}
