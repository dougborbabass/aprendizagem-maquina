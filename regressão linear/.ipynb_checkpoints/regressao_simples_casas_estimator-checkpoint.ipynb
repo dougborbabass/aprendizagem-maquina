{
 "cells": [
  {
   "cell_type": "code",
   "execution_count": null,
   "metadata": {},
   "outputs": [],
   "source": [
    "import pandas as pd\n",
    "base = pd.read_csv('house_prices.csv')\n",
    "base.head()"
   ]
  },
  {
   "cell_type": "code",
   "execution_count": null,
   "metadata": {},
   "outputs": [],
   "source": [
    "x = base.iloc[:, 5:6].values\n",
    "y = base.iloc[:, 2:3].values"
   ]
  },
  {
   "cell_type": "code",
   "execution_count": null,
   "metadata": {},
   "outputs": [],
   "source": [
    "from sklearn.preprocessing import StandardScaler # escalonamento dos valores para deixar na mesma faixa\n",
    "scaler_x = StandardScaler()\n",
    "x = scaler_x.fit_transform(x)\n",
    "scaler_y = StandardScaler()\n",
    "y = scaler_y.fit_transform(y)"
   ]
  },
  {
   "cell_type": "code",
   "execution_count": null,
   "metadata": {},
   "outputs": [],
   "source": [
    "import tensorflow as tf"
   ]
  },
  {
   "cell_type": "code",
   "execution_count": null,
   "metadata": {},
   "outputs": [],
   "source": [
    "colunas = [tf.feature_column.numeric_column('x', shape = [1])]"
   ]
  },
  {
   "cell_type": "code",
   "execution_count": null,
   "metadata": {},
   "outputs": [],
   "source": [
    "regressor = tf.estimator.LinearRegressor(feature_columns=colunas)"
   ]
  },
  {
   "cell_type": "code",
   "execution_count": 13,
   "metadata": {},
   "outputs": [],
   "source": [
    "from sklearn.model_selection import train_test_split #separa 30% da base para teste e 70% para treinamento\n",
    "x_treinamento, x_teste, y_treinamento, y_teste = train_test_split(x, y, test_size = 0.3)"
   ]
  },
  {
   "cell_type": "code",
   "execution_count": 16,
   "metadata": {},
   "outputs": [
    {
     "data": {
      "text/plain": [
       "(15129, 1)"
      ]
     },
     "execution_count": 16,
     "metadata": {},
     "output_type": "execute_result"
    }
   ],
   "source": [
    "x_treinamento.shape"
   ]
  },
  {
   "cell_type": "code",
   "execution_count": 17,
   "metadata": {},
   "outputs": [
    {
     "data": {
      "text/plain": [
       "(15129, 1)"
      ]
     },
     "execution_count": 17,
     "metadata": {},
     "output_type": "execute_result"
    }
   ],
   "source": [
    "y_treinamento.shape"
   ]
  },
  {
   "cell_type": "code",
   "execution_count": 18,
   "metadata": {},
   "outputs": [
    {
     "data": {
      "text/plain": [
       "(6484, 1)"
      ]
     },
     "execution_count": 18,
     "metadata": {},
     "output_type": "execute_result"
    }
   ],
   "source": [
    "x_teste.shape"
   ]
  },
  {
   "cell_type": "code",
   "execution_count": 19,
   "metadata": {},
   "outputs": [
    {
     "data": {
      "text/plain": [
       "(6484, 1)"
      ]
     },
     "execution_count": 19,
     "metadata": {},
     "output_type": "execute_result"
    }
   ],
   "source": [
    "y_teste.shape"
   ]
  },
  {
   "cell_type": "code",
   "execution_count": 22,
   "metadata": {},
   "outputs": [],
   "source": [
    "funcao_treinamento = tf.estimator.inputs.numpy_input_fn({'x': x_treinamento}, y_treinamento,\n",
    "                                                        batch_size = 32, num_epochs = None, shuffle = True)"
   ]
  },
  {
   "cell_type": "code",
   "execution_count": 24,
   "metadata": {},
   "outputs": [],
   "source": [
    "funcao_teste = tf.estimator.inputs.numpy_input_fn({'x': x_teste}, y_teste,\n",
    "                                                        batch_size = 32, num_epochs = 1000, shuffle = False)"
   ]
  },
  {
   "cell_type": "code",
   "execution_count": 25,
   "metadata": {
    "scrolled": true
   },
   "outputs": [
    {
     "name": "stdout",
     "output_type": "stream",
     "text": [
      "WARNING:tensorflow:From C:\\Users\\Douglas\\anaconda3\\lib\\site-packages\\tensorflow\\python\\training\\training_util.py:236: Variable.initialized_value (from tensorflow.python.ops.variables) is deprecated and will be removed in a future version.\n",
      "Instructions for updating:\n",
      "Use Variable.read_value. Variables in 2.X are initialized automatically both in eager and graph (inside tf.defun) contexts.\n",
      "WARNING:tensorflow:From C:\\Users\\Douglas\\anaconda3\\lib\\site-packages\\tensorflow_estimator\\python\\estimator\\inputs\\queues\\feeding_queue_runner.py:62: QueueRunner.__init__ (from tensorflow.python.training.queue_runner_impl) is deprecated and will be removed in a future version.\n",
      "Instructions for updating:\n",
      "To construct input pipelines, use the `tf.data` module.\n",
      "WARNING:tensorflow:From C:\\Users\\Douglas\\anaconda3\\lib\\site-packages\\tensorflow_estimator\\python\\estimator\\inputs\\queues\\feeding_functions.py:500: add_queue_runner (from tensorflow.python.training.queue_runner_impl) is deprecated and will be removed in a future version.\n",
      "Instructions for updating:\n",
      "To construct input pipelines, use the `tf.data` module.\n",
      "INFO:tensorflow:Calling model_fn.\n",
      "WARNING:tensorflow:Entity <bound method LinearModel.call of <tensorflow.python.feature_column.feature_column_v2.LinearModel object at 0x000002027A440688>> could not be transformed and will be executed as-is. Please report this to the AutgoGraph team. When filing the bug, set the verbosity to 10 (on Linux, `export AUTOGRAPH_VERBOSITY=10`) and attach the full output. Cause: converting <bound method LinearModel.call of <tensorflow.python.feature_column.feature_column_v2.LinearModel object at 0x000002027A440688>>: AssertionError: Bad argument number for Name: 3, expecting 4\n",
      "WARNING: Entity <bound method LinearModel.call of <tensorflow.python.feature_column.feature_column_v2.LinearModel object at 0x000002027A440688>> could not be transformed and will be executed as-is. Please report this to the AutgoGraph team. When filing the bug, set the verbosity to 10 (on Linux, `export AUTOGRAPH_VERBOSITY=10`) and attach the full output. Cause: converting <bound method LinearModel.call of <tensorflow.python.feature_column.feature_column_v2.LinearModel object at 0x000002027A440688>>: AssertionError: Bad argument number for Name: 3, expecting 4\n",
      "WARNING:tensorflow:Entity <bound method _LinearModelLayer.call of <tensorflow.python.feature_column.feature_column_v2._LinearModelLayer object at 0x000002027A22D248>> could not be transformed and will be executed as-is. Please report this to the AutgoGraph team. When filing the bug, set the verbosity to 10 (on Linux, `export AUTOGRAPH_VERBOSITY=10`) and attach the full output. Cause: converting <bound method _LinearModelLayer.call of <tensorflow.python.feature_column.feature_column_v2._LinearModelLayer object at 0x000002027A22D248>>: AssertionError: Bad argument number for Name: 3, expecting 4\n",
      "WARNING: Entity <bound method _LinearModelLayer.call of <tensorflow.python.feature_column.feature_column_v2._LinearModelLayer object at 0x000002027A22D248>> could not be transformed and will be executed as-is. Please report this to the AutgoGraph team. When filing the bug, set the verbosity to 10 (on Linux, `export AUTOGRAPH_VERBOSITY=10`) and attach the full output. Cause: converting <bound method _LinearModelLayer.call of <tensorflow.python.feature_column.feature_column_v2._LinearModelLayer object at 0x000002027A22D248>>: AssertionError: Bad argument number for Name: 3, expecting 4\n",
      "WARNING:tensorflow:From C:\\Users\\Douglas\\anaconda3\\lib\\site-packages\\tensorflow_estimator\\python\\estimator\\canned\\linear.py:308: to_float (from tensorflow.python.ops.math_ops) is deprecated and will be removed in a future version.\n",
      "Instructions for updating:\n",
      "Use `tf.cast` instead.\n",
      "INFO:tensorflow:Done calling model_fn.\n",
      "INFO:tensorflow:Create CheckpointSaverHook.\n",
      "WARNING:tensorflow:From C:\\Users\\Douglas\\anaconda3\\lib\\site-packages\\tensorflow\\python\\ops\\array_ops.py:1354: add_dispatch_support.<locals>.wrapper (from tensorflow.python.ops.array_ops) is deprecated and will be removed in a future version.\n",
      "Instructions for updating:\n",
      "Use tf.where in 2.0, which has the same broadcast rule as np.where\n",
      "INFO:tensorflow:Graph was finalized.\n",
      "INFO:tensorflow:Running local_init_op.\n",
      "INFO:tensorflow:Done running local_init_op.\n",
      "WARNING:tensorflow:From C:\\Users\\Douglas\\anaconda3\\lib\\site-packages\\tensorflow\\python\\training\\monitored_session.py:875: start_queue_runners (from tensorflow.python.training.queue_runner_impl) is deprecated and will be removed in a future version.\n",
      "Instructions for updating:\n",
      "To construct input pipelines, use the `tf.data` module.\n",
      "INFO:tensorflow:Saving checkpoints for 0 into C:\\Users\\Douglas\\AppData\\Local\\Temp\\tmp473g6mah\\model.ckpt.\n",
      "INFO:tensorflow:loss = 17.07235, step = 1\n",
      "INFO:tensorflow:global_step/sec: 999.927\n",
      "INFO:tensorflow:loss = 15.932575, step = 101 (0.101 sec)\n",
      "INFO:tensorflow:global_step/sec: 1694.78\n",
      "INFO:tensorflow:loss = 7.8217087, step = 201 (0.058 sec)\n",
      "INFO:tensorflow:global_step/sec: 1587.18\n",
      "INFO:tensorflow:loss = 7.2273903, step = 301 (0.063 sec)\n",
      "INFO:tensorflow:global_step/sec: 1315.7\n",
      "INFO:tensorflow:loss = 5.0770793, step = 401 (0.076 sec)\n",
      "INFO:tensorflow:global_step/sec: 1369.76\n",
      "INFO:tensorflow:loss = 12.714027, step = 501 (0.073 sec)\n",
      "INFO:tensorflow:global_step/sec: 1470.47\n",
      "INFO:tensorflow:loss = 6.882065, step = 601 (0.068 sec)\n",
      "INFO:tensorflow:global_step/sec: 1388.7\n",
      "INFO:tensorflow:loss = 19.67721, step = 701 (0.072 sec)\n",
      "INFO:tensorflow:global_step/sec: 1694.94\n",
      "INFO:tensorflow:loss = 12.262535, step = 801 (0.059 sec)\n",
      "INFO:tensorflow:global_step/sec: 1639.2\n",
      "INFO:tensorflow:loss = 13.971034, step = 901 (0.061 sec)\n",
      "INFO:tensorflow:global_step/sec: 1612.8\n",
      "INFO:tensorflow:loss = 18.711681, step = 1001 (0.062 sec)\n",
      "INFO:tensorflow:global_step/sec: 1515.03\n",
      "INFO:tensorflow:loss = 12.189527, step = 1101 (0.065 sec)\n",
      "INFO:tensorflow:global_step/sec: 1587.18\n",
      "INFO:tensorflow:loss = 11.92627, step = 1201 (0.064 sec)\n",
      "INFO:tensorflow:global_step/sec: 1281.94\n",
      "INFO:tensorflow:loss = 27.32079, step = 1301 (0.078 sec)\n",
      "INFO:tensorflow:global_step/sec: 1538.35\n",
      "INFO:tensorflow:loss = 10.174511, step = 1401 (0.065 sec)\n",
      "INFO:tensorflow:global_step/sec: 1612.77\n",
      "INFO:tensorflow:loss = 11.2591505, step = 1501 (0.061 sec)\n",
      "INFO:tensorflow:global_step/sec: 1694.81\n",
      "INFO:tensorflow:loss = 10.447447, step = 1601 (0.060 sec)\n",
      "INFO:tensorflow:global_step/sec: 1515.02\n",
      "INFO:tensorflow:loss = 12.154546, step = 1701 (0.066 sec)\n",
      "INFO:tensorflow:global_step/sec: 1449.18\n",
      "INFO:tensorflow:loss = 12.127956, step = 1801 (0.069 sec)\n",
      "INFO:tensorflow:global_step/sec: 1265.73\n",
      "INFO:tensorflow:loss = 24.354877, step = 1901 (0.079 sec)\n",
      "INFO:tensorflow:global_step/sec: 1449.14\n",
      "INFO:tensorflow:loss = 8.933044, step = 2001 (0.068 sec)\n",
      "INFO:tensorflow:global_step/sec: 1162.72\n",
      "INFO:tensorflow:loss = 37.52742, step = 2101 (0.087 sec)\n",
      "INFO:tensorflow:global_step/sec: 1086.87\n",
      "INFO:tensorflow:loss = 15.431242, step = 2201 (0.092 sec)\n",
      "INFO:tensorflow:global_step/sec: 1149.11\n",
      "INFO:tensorflow:loss = 15.159306, step = 2301 (0.087 sec)\n",
      "INFO:tensorflow:global_step/sec: 1075.39\n",
      "INFO:tensorflow:loss = 19.555042, step = 2401 (0.093 sec)\n",
      "INFO:tensorflow:global_step/sec: 1219.41\n",
      "INFO:tensorflow:loss = 6.0027184, step = 2501 (0.082 sec)\n",
      "INFO:tensorflow:global_step/sec: 1265.73\n",
      "INFO:tensorflow:loss = 8.2788925, step = 2601 (0.079 sec)\n",
      "INFO:tensorflow:global_step/sec: 1136.28\n",
      "INFO:tensorflow:loss = 10.460948, step = 2701 (0.088 sec)\n",
      "INFO:tensorflow:global_step/sec: 1136.29\n",
      "INFO:tensorflow:loss = 18.592972, step = 2801 (0.088 sec)\n",
      "INFO:tensorflow:global_step/sec: 1110.98\n",
      "INFO:tensorflow:loss = 15.617178, step = 2901 (0.090 sec)\n",
      "INFO:tensorflow:global_step/sec: 1020.33\n",
      "INFO:tensorflow:loss = 19.400635, step = 3001 (0.098 sec)\n",
      "WARNING:tensorflow:It seems that global step (tf.train.get_global_step) has not been increased. Current value (could be stable): 3043 vs previous value: 3043. You could increase the global step by passing tf.train.get_global_step() to Optimizer.apply_gradients or Optimizer.minimize.\n",
      "INFO:tensorflow:global_step/sec: 1123.56\n",
      "INFO:tensorflow:loss = 8.306593, step = 3101 (0.089 sec)\n",
      "INFO:tensorflow:global_step/sec: 1666.52\n",
      "INFO:tensorflow:loss = 6.827007, step = 3201 (0.061 sec)\n"
     ]
    },
    {
     "name": "stdout",
     "output_type": "stream",
     "text": [
      "INFO:tensorflow:global_step/sec: 1724.04\n",
      "INFO:tensorflow:loss = 14.4270315, step = 3301 (0.057 sec)\n",
      "INFO:tensorflow:global_step/sec: 1219.42\n",
      "INFO:tensorflow:loss = 32.01756, step = 3401 (0.082 sec)\n",
      "INFO:tensorflow:global_step/sec: 1315.69\n",
      "INFO:tensorflow:loss = 4.5211687, step = 3501 (0.076 sec)\n",
      "INFO:tensorflow:global_step/sec: 1538.35\n",
      "INFO:tensorflow:loss = 14.022993, step = 3601 (0.065 sec)\n",
      "INFO:tensorflow:global_step/sec: 1470.47\n",
      "INFO:tensorflow:loss = 9.549047, step = 3701 (0.069 sec)\n",
      "INFO:tensorflow:global_step/sec: 1587.17\n",
      "INFO:tensorflow:loss = 22.274847, step = 3801 (0.062 sec)\n",
      "INFO:tensorflow:global_step/sec: 1612.8\n",
      "INFO:tensorflow:loss = 12.501893, step = 3901 (0.062 sec)\n",
      "INFO:tensorflow:global_step/sec: 1538.32\n",
      "INFO:tensorflow:loss = 25.002394, step = 4001 (0.064 sec)\n",
      "INFO:tensorflow:global_step/sec: 1754.29\n",
      "INFO:tensorflow:loss = 10.758564, step = 4101 (0.059 sec)\n",
      "INFO:tensorflow:global_step/sec: 1723.99\n",
      "INFO:tensorflow:loss = 13.559743, step = 4201 (0.058 sec)\n",
      "INFO:tensorflow:global_step/sec: 1562.39\n",
      "INFO:tensorflow:loss = 7.0617743, step = 4301 (0.066 sec)\n",
      "INFO:tensorflow:global_step/sec: 1428.47\n",
      "INFO:tensorflow:loss = 9.1417055, step = 4401 (0.067 sec)\n",
      "INFO:tensorflow:global_step/sec: 1694.81\n",
      "INFO:tensorflow:loss = 6.7709665, step = 4501 (0.059 sec)\n",
      "INFO:tensorflow:global_step/sec: 1754.23\n",
      "INFO:tensorflow:loss = 6.102289, step = 4601 (0.057 sec)\n",
      "INFO:tensorflow:global_step/sec: 1612.8\n",
      "INFO:tensorflow:loss = 28.94957, step = 4701 (0.062 sec)\n",
      "INFO:tensorflow:global_step/sec: 1694.77\n",
      "INFO:tensorflow:loss = 7.0223184, step = 4801 (0.058 sec)\n",
      "INFO:tensorflow:global_step/sec: 1666.56\n",
      "INFO:tensorflow:loss = 11.102338, step = 4901 (0.061 sec)\n",
      "INFO:tensorflow:global_step/sec: 1723.99\n",
      "INFO:tensorflow:loss = 14.79844, step = 5001 (0.059 sec)\n",
      "INFO:tensorflow:global_step/sec: 1428.47\n",
      "INFO:tensorflow:loss = 7.773569, step = 5101 (0.068 sec)\n",
      "INFO:tensorflow:global_step/sec: 1388.78\n",
      "INFO:tensorflow:loss = 17.405056, step = 5201 (0.072 sec)\n",
      "INFO:tensorflow:global_step/sec: 1666.48\n",
      "INFO:tensorflow:loss = 16.647856, step = 5301 (0.061 sec)\n",
      "INFO:tensorflow:global_step/sec: 1388.83\n",
      "INFO:tensorflow:loss = 6.4297857, step = 5401 (0.071 sec)\n",
      "INFO:tensorflow:global_step/sec: 1538.34\n",
      "INFO:tensorflow:loss = 11.510145, step = 5501 (0.066 sec)\n",
      "INFO:tensorflow:global_step/sec: 1587.2\n",
      "INFO:tensorflow:loss = 24.943619, step = 5601 (0.063 sec)\n",
      "INFO:tensorflow:global_step/sec: 1785.53\n",
      "INFO:tensorflow:loss = 6.792223, step = 5701 (0.056 sec)\n",
      "INFO:tensorflow:global_step/sec: 1785.61\n",
      "INFO:tensorflow:loss = 8.790268, step = 5801 (0.056 sec)\n",
      "INFO:tensorflow:global_step/sec: 1694.78\n",
      "INFO:tensorflow:loss = 8.461456, step = 5901 (0.059 sec)\n",
      "INFO:tensorflow:global_step/sec: 1754.26\n",
      "INFO:tensorflow:loss = 25.065048, step = 6001 (0.057 sec)\n",
      "INFO:tensorflow:global_step/sec: 1818.04\n",
      "INFO:tensorflow:loss = 44.99332, step = 6101 (0.055 sec)\n",
      "INFO:tensorflow:global_step/sec: 1538.34\n",
      "INFO:tensorflow:loss = 24.528946, step = 6201 (0.066 sec)\n",
      "INFO:tensorflow:global_step/sec: 1176.38\n",
      "INFO:tensorflow:loss = 156.98996, step = 6301 (0.084 sec)\n",
      "INFO:tensorflow:global_step/sec: 1315.68\n",
      "INFO:tensorflow:loss = 7.1153965, step = 6401 (0.075 sec)\n",
      "INFO:tensorflow:global_step/sec: 1428.49\n",
      "INFO:tensorflow:loss = 10.738464, step = 6501 (0.071 sec)\n",
      "INFO:tensorflow:global_step/sec: 1388.77\n",
      "INFO:tensorflow:loss = 7.988537, step = 6601 (0.072 sec)\n",
      "INFO:tensorflow:global_step/sec: 1470.49\n",
      "INFO:tensorflow:loss = 10.938679, step = 6701 (0.068 sec)\n",
      "INFO:tensorflow:global_step/sec: 1315.69\n",
      "INFO:tensorflow:loss = 62.68982, step = 6801 (0.075 sec)\n",
      "INFO:tensorflow:global_step/sec: 1612.51\n",
      "INFO:tensorflow:loss = 17.590694, step = 6901 (0.063 sec)\n",
      "INFO:tensorflow:global_step/sec: 1587.39\n",
      "INFO:tensorflow:loss = 7.13026, step = 7001 (0.064 sec)\n",
      "INFO:tensorflow:global_step/sec: 1408.38\n",
      "INFO:tensorflow:loss = 9.632006, step = 7101 (0.070 sec)\n",
      "INFO:tensorflow:global_step/sec: 1470.47\n",
      "INFO:tensorflow:loss = 7.2817154, step = 7201 (0.068 sec)\n",
      "INFO:tensorflow:global_step/sec: 1176.39\n",
      "INFO:tensorflow:loss = 27.740993, step = 7301 (0.085 sec)\n",
      "INFO:tensorflow:global_step/sec: 1369.77\n",
      "INFO:tensorflow:loss = 11.149069, step = 7401 (0.073 sec)\n",
      "INFO:tensorflow:global_step/sec: 1470.48\n",
      "INFO:tensorflow:loss = 8.027775, step = 7501 (0.068 sec)\n",
      "INFO:tensorflow:global_step/sec: 1234.46\n",
      "INFO:tensorflow:loss = 6.7352076, step = 7601 (0.081 sec)\n",
      "INFO:tensorflow:global_step/sec: 1315.68\n",
      "INFO:tensorflow:loss = 11.577055, step = 7701 (0.075 sec)\n",
      "INFO:tensorflow:global_step/sec: 1538.34\n",
      "INFO:tensorflow:loss = 6.120889, step = 7801 (0.066 sec)\n",
      "INFO:tensorflow:global_step/sec: 1315.69\n",
      "INFO:tensorflow:loss = 16.853882, step = 7901 (0.076 sec)\n",
      "INFO:tensorflow:global_step/sec: 1249.91\n",
      "INFO:tensorflow:loss = 14.01437, step = 8001 (0.080 sec)\n",
      "INFO:tensorflow:global_step/sec: 1388.8\n",
      "INFO:tensorflow:loss = 10.433762, step = 8101 (0.072 sec)\n",
      "INFO:tensorflow:global_step/sec: 1562.3\n",
      "INFO:tensorflow:loss = 8.252489, step = 8201 (0.063 sec)\n",
      "INFO:tensorflow:global_step/sec: 1639.33\n",
      "INFO:tensorflow:loss = 13.7640915, step = 8301 (0.062 sec)\n",
      "INFO:tensorflow:global_step/sec: 1754.26\n",
      "INFO:tensorflow:loss = 9.4153, step = 8401 (0.057 sec)\n",
      "INFO:tensorflow:global_step/sec: 1665.54\n",
      "INFO:tensorflow:loss = 12.791143, step = 8501 (0.061 sec)\n",
      "INFO:tensorflow:global_step/sec: 1667.03\n",
      "INFO:tensorflow:loss = 6.7481813, step = 8601 (0.059 sec)\n",
      "INFO:tensorflow:global_step/sec: 1562.81\n",
      "INFO:tensorflow:loss = 18.23148, step = 8701 (0.064 sec)\n",
      "INFO:tensorflow:global_step/sec: 1694.81\n",
      "INFO:tensorflow:loss = 11.520412, step = 8801 (0.059 sec)\n",
      "INFO:tensorflow:global_step/sec: 1492.42\n",
      "INFO:tensorflow:loss = 6.2987533, step = 8901 (0.067 sec)\n",
      "INFO:tensorflow:global_step/sec: 1694.79\n",
      "INFO:tensorflow:loss = 10.969164, step = 9001 (0.059 sec)\n",
      "INFO:tensorflow:global_step/sec: 1612.78\n",
      "INFO:tensorflow:loss = 9.305465, step = 9101 (0.062 sec)\n",
      "INFO:tensorflow:global_step/sec: 1694.78\n",
      "INFO:tensorflow:loss = 9.10648, step = 9201 (0.059 sec)\n",
      "INFO:tensorflow:global_step/sec: 1666.55\n",
      "INFO:tensorflow:loss = 19.53014, step = 9301 (0.060 sec)\n",
      "INFO:tensorflow:global_step/sec: 1470.47\n",
      "INFO:tensorflow:loss = 103.93161, step = 9401 (0.068 sec)\n",
      "INFO:tensorflow:global_step/sec: 1587.19\n",
      "INFO:tensorflow:loss = 17.46689, step = 9501 (0.064 sec)\n",
      "INFO:tensorflow:global_step/sec: 1515.04\n",
      "INFO:tensorflow:loss = 5.6531515, step = 9601 (0.064 sec)\n",
      "INFO:tensorflow:global_step/sec: 1785.51\n",
      "INFO:tensorflow:loss = 17.17751, step = 9701 (0.057 sec)\n",
      "INFO:tensorflow:global_step/sec: 1612.83\n",
      "INFO:tensorflow:loss = 17.970402, step = 9801 (0.062 sec)\n",
      "INFO:tensorflow:global_step/sec: 1666.52\n",
      "INFO:tensorflow:loss = 34.545307, step = 9901 (0.060 sec)\n",
      "INFO:tensorflow:Saving checkpoints for 10000 into C:\\Users\\Douglas\\AppData\\Local\\Temp\\tmp473g6mah\\model.ckpt.\n",
      "INFO:tensorflow:Loss for final step: 16.39588.\n"
     ]
    },
    {
     "data": {
      "text/plain": [
       "<tensorflow_estimator.python.estimator.canned.linear.LinearRegressor at 0x20279936708>"
      ]
     },
     "execution_count": 25,
     "metadata": {},
     "output_type": "execute_result"
    }
   ],
   "source": [
    "regressor.train(input_fn = funcao_treinamento, steps = 10000)"
   ]
  },
  {
   "cell_type": "code",
   "execution_count": 27,
   "metadata": {
    "scrolled": true
   },
   "outputs": [
    {
     "name": "stdout",
     "output_type": "stream",
     "text": [
      "INFO:tensorflow:Calling model_fn.\n",
      "WARNING:tensorflow:Entity <bound method LinearModel.call of <tensorflow.python.feature_column.feature_column_v2.LinearModel object at 0x000002027C158F88>> could not be transformed and will be executed as-is. Please report this to the AutgoGraph team. When filing the bug, set the verbosity to 10 (on Linux, `export AUTOGRAPH_VERBOSITY=10`) and attach the full output. Cause: converting <bound method LinearModel.call of <tensorflow.python.feature_column.feature_column_v2.LinearModel object at 0x000002027C158F88>>: AssertionError: Bad argument number for Name: 3, expecting 4\n",
      "WARNING: Entity <bound method LinearModel.call of <tensorflow.python.feature_column.feature_column_v2.LinearModel object at 0x000002027C158F88>> could not be transformed and will be executed as-is. Please report this to the AutgoGraph team. When filing the bug, set the verbosity to 10 (on Linux, `export AUTOGRAPH_VERBOSITY=10`) and attach the full output. Cause: converting <bound method LinearModel.call of <tensorflow.python.feature_column.feature_column_v2.LinearModel object at 0x000002027C158F88>>: AssertionError: Bad argument number for Name: 3, expecting 4\n",
      "WARNING:tensorflow:Entity <bound method _LinearModelLayer.call of <tensorflow.python.feature_column.feature_column_v2._LinearModelLayer object at 0x000002027C17B388>> could not be transformed and will be executed as-is. Please report this to the AutgoGraph team. When filing the bug, set the verbosity to 10 (on Linux, `export AUTOGRAPH_VERBOSITY=10`) and attach the full output. Cause: converting <bound method _LinearModelLayer.call of <tensorflow.python.feature_column.feature_column_v2._LinearModelLayer object at 0x000002027C17B388>>: AssertionError: Bad argument number for Name: 3, expecting 4\n",
      "WARNING: Entity <bound method _LinearModelLayer.call of <tensorflow.python.feature_column.feature_column_v2._LinearModelLayer object at 0x000002027C17B388>> could not be transformed and will be executed as-is. Please report this to the AutgoGraph team. When filing the bug, set the verbosity to 10 (on Linux, `export AUTOGRAPH_VERBOSITY=10`) and attach the full output. Cause: converting <bound method _LinearModelLayer.call of <tensorflow.python.feature_column.feature_column_v2._LinearModelLayer object at 0x000002027C17B388>>: AssertionError: Bad argument number for Name: 3, expecting 4\n",
      "INFO:tensorflow:Done calling model_fn.\n",
      "INFO:tensorflow:Starting evaluation at 2020-07-31T17:24:23Z\n",
      "INFO:tensorflow:Graph was finalized.\n",
      "INFO:tensorflow:Restoring parameters from C:\\Users\\Douglas\\AppData\\Local\\Temp\\tmp473g6mah\\model.ckpt-10000\n",
      "INFO:tensorflow:Running local_init_op.\n",
      "INFO:tensorflow:Done running local_init_op.\n",
      "INFO:tensorflow:Evaluation [1000/10000]\n",
      "INFO:tensorflow:Evaluation [2000/10000]\n",
      "INFO:tensorflow:Evaluation [3000/10000]\n",
      "INFO:tensorflow:Evaluation [4000/10000]\n",
      "INFO:tensorflow:Evaluation [5000/10000]\n",
      "INFO:tensorflow:Evaluation [6000/10000]\n",
      "INFO:tensorflow:Evaluation [7000/10000]\n",
      "INFO:tensorflow:Evaluation [8000/10000]\n",
      "INFO:tensorflow:Evaluation [9000/10000]\n",
      "INFO:tensorflow:Evaluation [10000/10000]\n",
      "INFO:tensorflow:Finished evaluation at 2020-07-31-17:24:27\n",
      "INFO:tensorflow:Saving dict for global step 10000: average_loss = 0.51302814, global_step = 10000, label/mean = 0.00054674014, loss = 16.4169, prediction/mean = 0.009249371\n",
      "INFO:tensorflow:Saving 'checkpoint_path' summary for global step 10000: C:\\Users\\Douglas\\AppData\\Local\\Temp\\tmp473g6mah\\model.ckpt-10000\n"
     ]
    }
   ],
   "source": [
    "metricas_treinamento = regressor.evaluate(input_fn = funcao_treinamento, steps = 10000)"
   ]
  },
  {
   "cell_type": "code",
   "execution_count": 28,
   "metadata": {},
   "outputs": [
    {
     "name": "stdout",
     "output_type": "stream",
     "text": [
      "INFO:tensorflow:Calling model_fn.\n",
      "WARNING:tensorflow:Entity <bound method LinearModel.call of <tensorflow.python.feature_column.feature_column_v2.LinearModel object at 0x000002027BEF9D88>> could not be transformed and will be executed as-is. Please report this to the AutgoGraph team. When filing the bug, set the verbosity to 10 (on Linux, `export AUTOGRAPH_VERBOSITY=10`) and attach the full output. Cause: converting <bound method LinearModel.call of <tensorflow.python.feature_column.feature_column_v2.LinearModel object at 0x000002027BEF9D88>>: AssertionError: Bad argument number for Name: 3, expecting 4\n",
      "WARNING: Entity <bound method LinearModel.call of <tensorflow.python.feature_column.feature_column_v2.LinearModel object at 0x000002027BEF9D88>> could not be transformed and will be executed as-is. Please report this to the AutgoGraph team. When filing the bug, set the verbosity to 10 (on Linux, `export AUTOGRAPH_VERBOSITY=10`) and attach the full output. Cause: converting <bound method LinearModel.call of <tensorflow.python.feature_column.feature_column_v2.LinearModel object at 0x000002027BEF9D88>>: AssertionError: Bad argument number for Name: 3, expecting 4\n",
      "WARNING:tensorflow:Entity <bound method _LinearModelLayer.call of <tensorflow.python.feature_column.feature_column_v2._LinearModelLayer object at 0x000002027D993788>> could not be transformed and will be executed as-is. Please report this to the AutgoGraph team. When filing the bug, set the verbosity to 10 (on Linux, `export AUTOGRAPH_VERBOSITY=10`) and attach the full output. Cause: converting <bound method _LinearModelLayer.call of <tensorflow.python.feature_column.feature_column_v2._LinearModelLayer object at 0x000002027D993788>>: AssertionError: Bad argument number for Name: 3, expecting 4\n",
      "WARNING: Entity <bound method _LinearModelLayer.call of <tensorflow.python.feature_column.feature_column_v2._LinearModelLayer object at 0x000002027D993788>> could not be transformed and will be executed as-is. Please report this to the AutgoGraph team. When filing the bug, set the verbosity to 10 (on Linux, `export AUTOGRAPH_VERBOSITY=10`) and attach the full output. Cause: converting <bound method _LinearModelLayer.call of <tensorflow.python.feature_column.feature_column_v2._LinearModelLayer object at 0x000002027D993788>>: AssertionError: Bad argument number for Name: 3, expecting 4\n",
      "INFO:tensorflow:Done calling model_fn.\n",
      "INFO:tensorflow:Starting evaluation at 2020-07-31T17:25:13Z\n",
      "INFO:tensorflow:Graph was finalized.\n",
      "INFO:tensorflow:Restoring parameters from C:\\Users\\Douglas\\AppData\\Local\\Temp\\tmp473g6mah\\model.ckpt-10000\n",
      "INFO:tensorflow:Running local_init_op.\n",
      "INFO:tensorflow:Done running local_init_op.\n",
      "INFO:tensorflow:Evaluation [1000/10000]\n",
      "INFO:tensorflow:Evaluation [2000/10000]\n",
      "INFO:tensorflow:Evaluation [3000/10000]\n",
      "INFO:tensorflow:Evaluation [4000/10000]\n",
      "INFO:tensorflow:Evaluation [5000/10000]\n",
      "INFO:tensorflow:Evaluation [6000/10000]\n",
      "INFO:tensorflow:Evaluation [7000/10000]\n",
      "INFO:tensorflow:Evaluation [8000/10000]\n",
      "INFO:tensorflow:Evaluation [9000/10000]\n",
      "INFO:tensorflow:Evaluation [10000/10000]\n",
      "INFO:tensorflow:Finished evaluation at 2020-07-31-17:25:19\n",
      "INFO:tensorflow:Saving dict for global step 10000: average_loss = 0.49383172, global_step = 10000, label/mean = -0.0019061407, loss = 15.802615, prediction/mean = 0.0056273113\n",
      "INFO:tensorflow:Saving 'checkpoint_path' summary for global step 10000: C:\\Users\\Douglas\\AppData\\Local\\Temp\\tmp473g6mah\\model.ckpt-10000\n"
     ]
    }
   ],
   "source": [
    "metricas_teste = regressor.evaluate(input_fn = funcao_teste, steps = 10000)"
   ]
  },
  {
   "cell_type": "code",
   "execution_count": 29,
   "metadata": {},
   "outputs": [
    {
     "data": {
      "text/plain": [
       "{'average_loss': 0.51302814,\n",
       " 'label/mean': 0.00054674014,\n",
       " 'loss': 16.4169,\n",
       " 'prediction/mean': 0.009249371,\n",
       " 'global_step': 10000}"
      ]
     },
     "execution_count": 29,
     "metadata": {},
     "output_type": "execute_result"
    }
   ],
   "source": [
    "metricas_treinamento"
   ]
  },
  {
   "cell_type": "code",
   "execution_count": 30,
   "metadata": {},
   "outputs": [
    {
     "data": {
      "text/plain": [
       "{'average_loss': 0.49383172,\n",
       " 'label/mean': -0.0019061407,\n",
       " 'loss': 15.802615,\n",
       " 'prediction/mean': 0.0056273113,\n",
       " 'global_step': 10000}"
      ]
     },
     "execution_count": 30,
     "metadata": {},
     "output_type": "execute_result"
    }
   ],
   "source": [
    "metricas_teste"
   ]
  },
  {
   "cell_type": "code",
   "execution_count": 32,
   "metadata": {},
   "outputs": [
    {
     "data": {
      "text/plain": [
       "array([[ 800],\n",
       "       [ 900],\n",
       "       [1000]])"
      ]
     },
     "execution_count": 32,
     "metadata": {},
     "output_type": "execute_result"
    }
   ],
   "source": [
    "import numpy as np\n",
    "novas_casas = np.array([[800],[900],[1000]])\n",
    "novas_casas"
   ]
  },
  {
   "cell_type": "code",
   "execution_count": 33,
   "metadata": {},
   "outputs": [
    {
     "data": {
      "text/plain": [
       "array([[-1.39358923],\n",
       "       [-1.28470655],\n",
       "       [-1.17582386]])"
      ]
     },
     "execution_count": 33,
     "metadata": {},
     "output_type": "execute_result"
    }
   ],
   "source": [
    "novas_casas = scaler_x.transform(novas_casas)\n",
    "novas_casas"
   ]
  },
  {
   "cell_type": "code",
   "execution_count": 34,
   "metadata": {},
   "outputs": [],
   "source": [
    "funcao_previsao = tf.estimator.inputs.numpy_input_fn({'x': novas_casas}, shuffle = False)"
   ]
  },
  {
   "cell_type": "code",
   "execution_count": 44,
   "metadata": {},
   "outputs": [],
   "source": [
    "previsoes = regressor.predict(input_fn = funcao_previsao)"
   ]
  },
  {
   "cell_type": "code",
   "execution_count": 36,
   "metadata": {},
   "outputs": [
    {
     "data": {
      "text/plain": [
       "<generator object Estimator.predict at 0x0000020279DA0148>"
      ]
     },
     "execution_count": 36,
     "metadata": {},
     "output_type": "execute_result"
    }
   ],
   "source": [
    "previsoes"
   ]
  },
  {
   "cell_type": "code",
   "execution_count": 37,
   "metadata": {},
   "outputs": [
    {
     "name": "stdout",
     "output_type": "stream",
     "text": [
      "INFO:tensorflow:Calling model_fn.\n",
      "WARNING:tensorflow:Entity <bound method LinearModel.call of <tensorflow.python.feature_column.feature_column_v2.LinearModel object at 0x000002027D791E08>> could not be transformed and will be executed as-is. Please report this to the AutgoGraph team. When filing the bug, set the verbosity to 10 (on Linux, `export AUTOGRAPH_VERBOSITY=10`) and attach the full output. Cause: converting <bound method LinearModel.call of <tensorflow.python.feature_column.feature_column_v2.LinearModel object at 0x000002027D791E08>>: AssertionError: Bad argument number for Name: 3, expecting 4\n",
      "WARNING: Entity <bound method LinearModel.call of <tensorflow.python.feature_column.feature_column_v2.LinearModel object at 0x000002027D791E08>> could not be transformed and will be executed as-is. Please report this to the AutgoGraph team. When filing the bug, set the verbosity to 10 (on Linux, `export AUTOGRAPH_VERBOSITY=10`) and attach the full output. Cause: converting <bound method LinearModel.call of <tensorflow.python.feature_column.feature_column_v2.LinearModel object at 0x000002027D791E08>>: AssertionError: Bad argument number for Name: 3, expecting 4\n",
      "WARNING:tensorflow:Entity <bound method _LinearModelLayer.call of <tensorflow.python.feature_column.feature_column_v2._LinearModelLayer object at 0x000002027A034888>> could not be transformed and will be executed as-is. Please report this to the AutgoGraph team. When filing the bug, set the verbosity to 10 (on Linux, `export AUTOGRAPH_VERBOSITY=10`) and attach the full output. Cause: converting <bound method _LinearModelLayer.call of <tensorflow.python.feature_column.feature_column_v2._LinearModelLayer object at 0x000002027A034888>>: AssertionError: Bad argument number for Name: 3, expecting 4\n",
      "WARNING: Entity <bound method _LinearModelLayer.call of <tensorflow.python.feature_column.feature_column_v2._LinearModelLayer object at 0x000002027A034888>> could not be transformed and will be executed as-is. Please report this to the AutgoGraph team. When filing the bug, set the verbosity to 10 (on Linux, `export AUTOGRAPH_VERBOSITY=10`) and attach the full output. Cause: converting <bound method _LinearModelLayer.call of <tensorflow.python.feature_column.feature_column_v2._LinearModelLayer object at 0x000002027A034888>>: AssertionError: Bad argument number for Name: 3, expecting 4\n",
      "INFO:tensorflow:Done calling model_fn.\n",
      "INFO:tensorflow:Graph was finalized.\n",
      "INFO:tensorflow:Restoring parameters from C:\\Users\\Douglas\\AppData\\Local\\Temp\\tmp473g6mah\\model.ckpt-10000\n",
      "INFO:tensorflow:Running local_init_op.\n",
      "INFO:tensorflow:Done running local_init_op.\n"
     ]
    },
    {
     "data": {
      "text/plain": [
       "[{'predictions': array([-0.9687378], dtype=float32)},\n",
       " {'predictions': array([-0.89240706], dtype=float32)},\n",
       " {'predictions': array([-0.8160763], dtype=float32)}]"
      ]
     },
     "execution_count": 37,
     "metadata": {},
     "output_type": "execute_result"
    }
   ],
   "source": [
    "list(previsoes)"
   ]
  },
  {
   "cell_type": "code",
   "execution_count": 45,
   "metadata": {},
   "outputs": [
    {
     "name": "stdout",
     "output_type": "stream",
     "text": [
      "INFO:tensorflow:Calling model_fn.\n",
      "WARNING:tensorflow:Entity <bound method LinearModel.call of <tensorflow.python.feature_column.feature_column_v2.LinearModel object at 0x000002027E02DB08>> could not be transformed and will be executed as-is. Please report this to the AutgoGraph team. When filing the bug, set the verbosity to 10 (on Linux, `export AUTOGRAPH_VERBOSITY=10`) and attach the full output. Cause: converting <bound method LinearModel.call of <tensorflow.python.feature_column.feature_column_v2.LinearModel object at 0x000002027E02DB08>>: AssertionError: Bad argument number for Name: 3, expecting 4\n",
      "WARNING: Entity <bound method LinearModel.call of <tensorflow.python.feature_column.feature_column_v2.LinearModel object at 0x000002027E02DB08>> could not be transformed and will be executed as-is. Please report this to the AutgoGraph team. When filing the bug, set the verbosity to 10 (on Linux, `export AUTOGRAPH_VERBOSITY=10`) and attach the full output. Cause: converting <bound method LinearModel.call of <tensorflow.python.feature_column.feature_column_v2.LinearModel object at 0x000002027E02DB08>>: AssertionError: Bad argument number for Name: 3, expecting 4\n",
      "WARNING:tensorflow:Entity <bound method _LinearModelLayer.call of <tensorflow.python.feature_column.feature_column_v2._LinearModelLayer object at 0x000002027E05B388>> could not be transformed and will be executed as-is. Please report this to the AutgoGraph team. When filing the bug, set the verbosity to 10 (on Linux, `export AUTOGRAPH_VERBOSITY=10`) and attach the full output. Cause: converting <bound method _LinearModelLayer.call of <tensorflow.python.feature_column.feature_column_v2._LinearModelLayer object at 0x000002027E05B388>>: AssertionError: Bad argument number for Name: 3, expecting 4\n",
      "WARNING: Entity <bound method _LinearModelLayer.call of <tensorflow.python.feature_column.feature_column_v2._LinearModelLayer object at 0x000002027E05B388>> could not be transformed and will be executed as-is. Please report this to the AutgoGraph team. When filing the bug, set the verbosity to 10 (on Linux, `export AUTOGRAPH_VERBOSITY=10`) and attach the full output. Cause: converting <bound method _LinearModelLayer.call of <tensorflow.python.feature_column.feature_column_v2._LinearModelLayer object at 0x000002027E05B388>>: AssertionError: Bad argument number for Name: 3, expecting 4\n",
      "INFO:tensorflow:Done calling model_fn.\n",
      "INFO:tensorflow:Graph was finalized.\n",
      "INFO:tensorflow:Restoring parameters from C:\\Users\\Douglas\\AppData\\Local\\Temp\\tmp473g6mah\\model.ckpt-10000\n",
      "INFO:tensorflow:Running local_init_op.\n",
      "INFO:tensorflow:Done running local_init_op.\n",
      "[184446.39]\n",
      "[212468.83]\n",
      "[240491.27]\n"
     ]
    }
   ],
   "source": [
    "for p in previsoes:\n",
    "    print(scaler_y.inverse_transform(p['predictions']))"
   ]
  }
 ],
 "metadata": {
  "kernelspec": {
   "display_name": "Python 3",
   "language": "python",
   "name": "python3"
  },
  "language_info": {
   "codemirror_mode": {
    "name": "ipython",
    "version": 3
   },
   "file_extension": ".py",
   "mimetype": "text/x-python",
   "name": "python",
   "nbconvert_exporter": "python",
   "pygments_lexer": "ipython3",
   "version": "3.7.6"
  }
 },
 "nbformat": 4,
 "nbformat_minor": 4
}
