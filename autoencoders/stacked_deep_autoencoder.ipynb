{
 "cells": [
  {
   "cell_type": "code",
   "execution_count": 24,
   "metadata": {},
   "outputs": [
    {
     "name": "stdout",
     "output_type": "stream",
     "text": [
      "Extracting mnist/train-images-idx3-ubyte.gz\n",
      "Extracting mnist/train-labels-idx1-ubyte.gz\n",
      "Extracting mnist/t10k-images-idx3-ubyte.gz\n",
      "Extracting mnist/t10k-labels-idx1-ubyte.gz\n"
     ]
    }
   ],
   "source": [
    "from tensorflow.examples.tutorials.mnist import input_data\n",
    "mnist = input_data.read_data_sets('mnist/', one_hot = True)\n",
    "x = mnist.train.images"
   ]
  },
  {
   "cell_type": "code",
   "execution_count": 25,
   "metadata": {},
   "outputs": [
    {
     "data": {
      "text/plain": [
       "<matplotlib.image.AxesImage at 0x1f3864272c8>"
      ]
     },
     "execution_count": 25,
     "metadata": {},
     "output_type": "execute_result"
    },
    {
     "data": {
      "image/png": "[encoded data removed]",
      "text/plain": [
       "<Figure size 432x288 with 1 Axes>"
      ]
     },
     "metadata": {
      "needs_background": "light"
     },
     "output_type": "display_data"
    }
   ],
   "source": [
    "import matplotlib.pyplot as plt\n",
    "plt.imshow(x[0].reshape(28,28))"
   ]
  },
  {
   "cell_type": "code",
   "execution_count": 26,
   "metadata": {},
   "outputs": [],
   "source": [
    "# 784 -> 128 -> 64 -> 128 -> 784"
   ]
  },
  {
   "cell_type": "code",
   "execution_count": 27,
   "metadata": {},
   "outputs": [],
   "source": [
    "# encoder\n",
    "neuronios_entrada = 784\n",
    "neuronios_oculta1 = 128\n",
    "\n",
    "# imagem codificada\n",
    "neuronios_oculta2 = 64\n",
    "\n",
    "# decoder\n",
    "neuronios_oculta3 = neuronios_oculta1\n",
    "neuronios_saida = neuronios_entrada"
   ]
  },
  {
   "cell_type": "code",
   "execution_count": 28,
   "metadata": {},
   "outputs": [],
   "source": [
    "import tensorflow as tf\n",
    "tf.reset_default_graph()"
   ]
  },
  {
   "cell_type": "code",
   "execution_count": 29,
   "metadata": {},
   "outputs": [],
   "source": [
    "xph = tf.placeholder(tf.float32, [None, neuronios_entrada])"
   ]
  },
  {
   "cell_type": "code",
   "execution_count": 30,
   "metadata": {},
   "outputs": [],
   "source": [
    "# Inicialização Xavier (mais eficiente que a RandomNormal)\n",
    "\n",
    "inicializador = tf.variance_scaling_initializer()"
   ]
  },
  {
   "cell_type": "code",
   "execution_count": 31,
   "metadata": {},
   "outputs": [],
   "source": [
    "# 784 -> 128 -> 64 -> 128 -> 784\n",
    "\n",
    "w = {'encoder_oculta1': tf.Variable(inicializador([neuronios_entrada, neuronios_oculta1])),\n",
    "     'encoder_oculta2': tf.Variable(inicializador([neuronios_oculta1, neuronios_oculta2])),\n",
    "     'decoder_oculta3': tf.Variable(inicializador([neuronios_oculta2, neuronios_oculta3])),\n",
    "     'decoder_saida': tf.Variable(inicializador([neuronios_oculta3, neuronios_saida]))\n",
    "}"
   ]
  },
  {
   "cell_type": "code",
   "execution_count": 32,
   "metadata": {},
   "outputs": [],
   "source": [
    "b = {'encoder_oculta1': tf.Variable(inicializador([neuronios_oculta1])),\n",
    "     'encoder_oculta2': tf.Variable(inicializador([neuronios_oculta2])),\n",
    "     'decoder_oculta3': tf.Variable(inicializador([neuronios_oculta3])),\n",
    "     'decoder_saida': tf.Variable(inicializador([neuronios_saida]))\n",
    "}"
   ]
  },
  {
   "cell_type": "code",
   "execution_count": 33,
   "metadata": {},
   "outputs": [],
   "source": [
    "camada_oculta1 = tf.nn.relu(tf.add(tf.matmul(xph, w['encoder_oculta1']), b['encoder_oculta1']))\n",
    "camada_oculta2 = tf.nn.relu(tf.add(tf.matmul(camada_oculta1, w['encoder_oculta2']), b['encoder_oculta2']))\n",
    "camada_oculta3 = tf.nn.relu(tf.add(tf.matmul(camada_oculta2, w['decoder_oculta3']), b['decoder_oculta3']))\n",
    "camada_saida = tf.nn.relu(tf.add(tf.matmul(camada_oculta3, w['decoder_saida']), b['decoder_saida']))"
   ]
  },
  {
   "cell_type": "code",
   "execution_count": 34,
   "metadata": {},
   "outputs": [],
   "source": [
    "erro = tf.losses.mean_squared_error(xph, camada_saida)\n",
    "otimizador = tf.train.AdamOptimizer(0.001)\n",
    "treinamento = otimizador.minimize(erro)\n",
    "batch_size = 128"
   ]
  },
  {
   "cell_type": "code",
   "execution_count": 35,
   "metadata": {},
   "outputs": [
    {
     "name": "stdout",
     "output_type": "stream",
     "text": [
      "época: 1 erro: 0.01617876\n",
      "época: 2 erro: 0.012461433\n",
      "época: 3 erro: 0.0111219045\n",
      "época: 4 erro: 0.009830988\n",
      "época: 5 erro: 0.010750166\n",
      "época: 6 erro: 0.009418962\n",
      "época: 7 erro: 0.008689333\n",
      "época: 8 erro: 0.0091825435\n",
      "época: 9 erro: 0.009030328\n",
      "época: 10 erro: 0.0085844165\n",
      "época: 11 erro: 0.008512584\n",
      "época: 12 erro: 0.007890665\n",
      "época: 13 erro: 0.008476146\n",
      "época: 14 erro: 0.00951779\n",
      "época: 15 erro: 0.008750589\n",
      "época: 16 erro: 0.008083352\n",
      "época: 17 erro: 0.008552833\n",
      "época: 18 erro: 0.008919801\n",
      "época: 19 erro: 0.008392852\n",
      "época: 20 erro: 0.008623476\n",
      "época: 21 erro: 0.008555274\n",
      "época: 22 erro: 0.008876948\n",
      "época: 23 erro: 0.007838967\n",
      "época: 24 erro: 0.008241085\n",
      "época: 25 erro: 0.008975437\n",
      "época: 26 erro: 0.008164293\n",
      "época: 27 erro: 0.007320984\n",
      "época: 28 erro: 0.008724405\n",
      "época: 29 erro: 0.0074319225\n",
      "época: 30 erro: 0.0076281168\n",
      "época: 31 erro: 0.008651317\n",
      "época: 32 erro: 0.0077948663\n",
      "época: 33 erro: 0.008659021\n",
      "época: 34 erro: 0.0076409457\n",
      "época: 35 erro: 0.008490102\n",
      "época: 36 erro: 0.008356706\n",
      "época: 37 erro: 0.008711567\n",
      "época: 38 erro: 0.007964226\n",
      "época: 39 erro: 0.008348467\n",
      "época: 40 erro: 0.0073372326\n",
      "época: 41 erro: 0.0076798294\n",
      "época: 42 erro: 0.0077129807\n",
      "época: 43 erro: 0.008061535\n",
      "época: 44 erro: 0.007912407\n",
      "época: 45 erro: 0.008715923\n",
      "época: 46 erro: 0.008265706\n",
      "época: 47 erro: 0.00820113\n",
      "época: 48 erro: 0.008073998\n",
      "época: 49 erro: 0.007863594\n",
      "época: 50 erro: 0.008049818\n"
     ]
    }
   ],
   "source": [
    "with tf.Session() as sess:\n",
    "    sess.run(tf.global_variables_initializer())\n",
    "    for epoca in range(50):\n",
    "        numero_batches = mnist.train.num_examples // batch_size\n",
    "        for i in range(numero_batches):\n",
    "            x_batch, _ = mnist.train.next_batch(batch_size)\n",
    "            custo, _ = sess.run([erro, treinamento], feed_dict = {xph: x_batch})\n",
    "        print('época: ' + str(epoca + 1) + ' erro: ' + str(custo))\n",
    "        \n",
    "    imagens_codificadas = sess.run(camada_oculta2, feed_dict = {xph: x})\n",
    "    imagens_decodificadas = sess.run(camada_saida, feed_dict = {xph: x})"
   ]
  },
  {
   "cell_type": "code",
   "execution_count": 36,
   "metadata": {},
   "outputs": [
    {
     "data": {
      "text/plain": [
       "array([34305, 14335, 26272, 29026, 36242])"
      ]
     },
     "execution_count": 36,
     "metadata": {},
     "output_type": "execute_result"
    }
   ],
   "source": [
    "import numpy as np\n",
    "numero_imagens = 5\n",
    "imagens_teste = np.random.randint(x.shape[0], size = numero_imagens)\n",
    "imagens_teste"
   ]
  },
  {
   "cell_type": "code",
   "execution_count": 48,
   "metadata": {},
   "outputs": [
    {
     "name": "stdout",
     "output_type": "stream",
     "text": [
      "0\n",
      "34305\n",
      "1\n",
      "14335\n",
      "2\n",
      "26272\n",
      "3\n",
      "29026\n",
      "4\n",
      "36242\n"
     ]
    },
    {
     "data": {
      "image/png": "[encoded data removed]",
      "text/plain": [
       "<Figure size 1296x1296 with 15 Axes>"
      ]
     },
     "metadata": {},
     "output_type": "display_data"
    }
   ],
   "source": [
    "plt.figure(figsize = (18,18))\n",
    "for i, indice_imagem in enumerate(imagens_teste):\n",
    "    print(i)\n",
    "    print(indice_imagem)\n",
    "    \n",
    "    eixo = plt.subplot(10,5, i + 1)\n",
    "    plt.imshow(x[indice_imagem].reshape(28,28))\n",
    "    plt.xticks(())\n",
    "    plt.yticks(())\n",
    "    \n",
    "    eixo = plt.subplot(10,5, i + 1 + numero_imagens)\n",
    "    plt.imshow(imagens_codificadas[indice_imagem].reshape(8,8))\n",
    "    plt.xticks(())\n",
    "    plt.yticks(())\n",
    "    \n",
    "    \n",
    "    \n",
    "    eixo = plt.subplot(10,5, i + 1 + numero_imagens*2)\n",
    "    plt.imshow(imagens_decodificadas[indice_imagem].reshape(28,28))\n",
    "    plt.xticks(())\n",
    "    plt.yticks(())"
   ]
  }
 ],
 "metadata": {
  "kernelspec": {
   "display_name": "Python 3",
   "language": "python",
   "name": "python3"
  },
  "language_info": {
   "codemirror_mode": {
    "name": "ipython",
    "version": 3
   },
   "file_extension": ".py",
   "mimetype": "text/x-python",
   "name": "python",
   "nbconvert_exporter": "python",
   "pygments_lexer": "ipython3",
   "version": "3.7.6"
  }
 },
 "nbformat": 4,
 "nbformat_minor": 4
}
